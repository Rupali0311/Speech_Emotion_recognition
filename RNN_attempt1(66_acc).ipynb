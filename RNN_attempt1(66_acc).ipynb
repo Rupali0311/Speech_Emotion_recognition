{
 "cells": [
  {
   "cell_type": "markdown",
   "metadata": {},
   "source": [
    "# Importing the Libraries"
   ]
  },
  {
   "cell_type": "code",
   "execution_count": 1,
   "metadata": {},
   "outputs": [],
   "source": [
    "import librosa\n",
    "import librosa.display\n",
    "import numpy as np\n",
    "import matplotlib.pyplot as plt\n",
    "from sklearn.ensemble import RandomForestClassifier\n",
    "from sklearn.metrics import confusion_matrix, accuracy_score, classification_report\n",
    "from sklearn.utils import shuffle\n",
    "from keras.utils import np_utils\n",
    "from sklearn.preprocessing import LabelEncoder\n",
    "import os\n",
    "import pandas as pd\n",
    "import librosa\n",
    "import glob \n",
    "from sklearn.metrics import accuracy_score"
   ]
  },
  {
   "cell_type": "markdown",
   "metadata": {},
   "source": [
    "# Loading the dataset"
   ]
  },
  {
   "cell_type": "code",
   "execution_count": 2,
   "metadata": {},
   "outputs": [],
   "source": [
    "rav_sav= os.listdir('Dataset1/')\n",
    "tess= os.listdir('Dataset2/')"
   ]
  },
  {
   "cell_type": "markdown",
   "metadata": {},
   "source": [
    "# Printing size of dataset"
   ]
  },
  {
   "cell_type": "code",
   "execution_count": 3,
   "metadata": {},
   "outputs": [
    {
     "name": "stdout",
     "output_type": "stream",
     "text": [
      "1920\n",
      "2800\n"
     ]
    }
   ],
   "source": [
    "print(len(rav_sav))\n",
    "print(len(tess))"
   ]
  },
  {
   "cell_type": "markdown",
   "metadata": {},
   "source": [
    "# Mapping the data of RAVDESS and SAVEE"
   ]
  },
  {
   "cell_type": "code",
   "execution_count": 4,
   "metadata": {},
   "outputs": [],
   "source": [
    "emotions=[]\n",
    "for file in rav_sav:\n",
    "    if file[6:-16]=='01':\n",
    "        emotions.append('neutral')\n",
    "    elif file[6:-16]=='03' and int(file[18:-4])%2==0:\n",
    "        emotions.append('happy')\n",
    "    elif file[6:-16]=='03' and int(file[18:-4])%2==1:\n",
    "        emotions.append('happy')\n",
    "    elif file[6:-16]=='04' and int(file[18:-4])%2==0:\n",
    "        emotions.append('sad')\n",
    "    elif file[6:-16]=='04' and int(file[18:-4])%2==1:\n",
    "        emotions.append('sad')\n",
    "    elif file[6:-16]=='05' and int(file[18:-4])%2==0:\n",
    "        emotions.append('angry')\n",
    "    elif file[6:-16]=='05' and int(file[18:-4])%2==1:\n",
    "        emotions.append('angry')\n",
    "    elif file[6:-16]=='06' and int(file[18:-4])%2==0:\n",
    "        emotions.append('fearful')\n",
    "    elif file[6:-16]=='06' and int(file[18:-4])%2==1:\n",
    "        emotions.append('fearful')\n",
    "    elif file[6:-16]=='07':\n",
    "        emotions.append('disgust')\n",
    "    elif file[:1]=='a':\n",
    "        emotions.append('angry')\n",
    "    elif file[:1]=='f':\n",
    "        emotions.append('fearful')\n",
    "    elif file[:1]=='h':\n",
    "        emotions.append('happy')\n",
    "    elif file[:2]=='sa':\n",
    "        emotions.append('sad')"
   ]
  },
  {
   "cell_type": "markdown",
   "metadata": {},
   "source": [
    "# Mapping the data of TESS"
   ]
  },
  {
   "cell_type": "code",
   "execution_count": 5,
   "metadata": {},
   "outputs": [],
   "source": [
    "for file in tess:\n",
    "    if file[-11:-4]=='neutral':\n",
    "        emotions.append('neutral')\n",
    "    elif file[-9:-4]=='angry':\n",
    "        emotions.append('angry')\n",
    "    elif file[-11:-4]=='disgust':\n",
    "        emotions.append('disgust')\n",
    "    elif file[-9:-4]=='happy':\n",
    "        emotions.append('happy')\n",
    "    elif file[-7:-4]=='sad':\n",
    "        emotions.append('sad')\n",
    "    elif file[-8:-4]=='fear':\n",
    "        emotions.append('fearful')"
   ]
  },
  {
   "cell_type": "markdown",
   "metadata": {},
   "source": [
    "# Labelling the data"
   ]
  },
  {
   "cell_type": "code",
   "execution_count": 6,
   "metadata": {},
   "outputs": [],
   "source": [
    "labels = pd.DataFrame(emotions)"
   ]
  },
  {
   "cell_type": "markdown",
   "metadata": {},
   "source": [
    "# Feature Extraction of RAVDESS and SAVEE dataset using mfcc"
   ]
  },
  {
   "cell_type": "code",
   "execution_count": 7,
   "metadata": {},
   "outputs": [],
   "source": [
    "df = pd.DataFrame(columns=['feature'])\n",
    "count=0\n",
    "for i,y in enumerate(rav_sav):\n",
    "    if rav_sav[i][6:-16]!='02' and rav_sav[i][6:-16]!='08' and rav_sav[i][:2]!='su' and rav_sav[i][:1]!='n' and rav_sav[i][:1]!='d':\n",
    "        X, sample_rate = librosa.load('Dataset1/'+y, res_type='kaiser_fast',duration=2.5,sr=22050,offset=0)\n",
    "        sample_rate = np.array(sample_rate)\n",
    "        mfccs = np.mean(librosa.feature.mfcc(y=X, sr=sample_rate, n_mfcc=13), axis=0)\n",
    "        feature = mfccs\n",
    "        df.loc[count] = [feature]\n",
    "        count=count+1  "
   ]
  },
  {
   "cell_type": "markdown",
   "metadata": {},
   "source": [
    "# Feature extraction of TESS dataset using mfcc"
   ]
  },
  {
   "cell_type": "code",
   "execution_count": 8,
   "metadata": {},
   "outputs": [],
   "source": [
    "for i,y in enumerate(tess):\n",
    "     if tess[i][-6:-4]!='ps':\n",
    "        X, sample_rate = librosa.load('Dataset2/'+y, res_type='kaiser_fast',duration=2.5,sr=22050*2,offset=0)\n",
    "        sample_rate = np.array(sample_rate)\n",
    "        mfccs = np.mean(librosa.feature.mfcc(y=X,  sr=sample_rate,  n_mfcc=13), axis=0)\n",
    "        feature = mfccs\n",
    "        df.loc[count] = [feature]\n",
    "        count=count+1 "
   ]
  },
  {
   "cell_type": "code",
   "execution_count": 9,
   "metadata": {},
   "outputs": [
    {
     "name": "stdout",
     "output_type": "stream",
     "text": [
      "                                                feature\n",
      "0     [-65.946724, -65.946724, -65.946724, -65.94672...\n",
      "1     [-63.72445, -63.72445, -63.72445, -63.72445, -...\n",
      "2     [-59.59301, -59.59301, -59.59301, -59.59301, -...\n",
      "3     [-66.73365, -66.73365, -66.73365, -66.73365, -...\n",
      "4     [-61.566444, -57.94428, -56.239346, -58.175125...\n",
      "...                                                 ...\n",
      "3691  [-43.600605, -43.108433, -42.603493, -43.46729...\n",
      "3692  [-31.2706, -23.65622, -21.566856, -22.070164, ...\n",
      "3693  [-32.686943, -30.507328, -27.698042, -31.79878...\n",
      "3694  [-41.914738, -40.3994, -39.37127, -39.626366, ...\n",
      "3695  [-33.994755, -35.7186, -36.789467, -34.117706,...\n",
      "\n",
      "[3696 rows x 1 columns]\n"
     ]
    }
   ],
   "source": [
    "print(df)"
   ]
  },
  {
   "cell_type": "markdown",
   "metadata": {},
   "source": [
    "# Splitting into train and test data"
   ]
  },
  {
   "cell_type": "code",
   "execution_count": 10,
   "metadata": {},
   "outputs": [],
   "source": [
    "tempdf = pd.DataFrame(df['feature'].values.tolist())\n",
    "df_new = pd.concat([tempdf,labels], axis=1)"
   ]
  },
  {
   "cell_type": "code",
   "execution_count": 11,
   "metadata": {},
   "outputs": [],
   "source": [
    "ren_df = df_new.rename(index=str, columns={\"0\": \"label\"})\n",
    "ren_df = shuffle(df_new)\n",
    "ren_df = ren_df.fillna(0)\n",
    "final_df = np.random.rand(len(ren_df)) < 0.8"
   ]
  },
  {
   "cell_type": "code",
   "execution_count": 12,
   "metadata": {},
   "outputs": [
    {
     "name": "stdout",
     "output_type": "stream",
     "text": [
      "2953\n",
      "743\n"
     ]
    }
   ],
   "source": [
    "train = ren_df[final_df]\n",
    "test = ren_df[~final_df]\n",
    "print(len(train))\n",
    "print(len(test))"
   ]
  },
  {
   "cell_type": "code",
   "execution_count": 13,
   "metadata": {},
   "outputs": [
    {
     "name": "stdout",
     "output_type": "stream",
     "text": [
      "            0          1          2          3          4          5    \\\n",
      "0    -65.946724 -65.946724 -65.946724 -65.946724 -65.946724 -65.946724   \n",
      "1    -63.724449 -63.724449 -63.724449 -63.724449 -63.724449 -63.724449   \n",
      "2    -59.593010 -59.593010 -59.593010 -59.593010 -59.593010 -59.593010   \n",
      "3    -66.733650 -66.733650 -66.733650 -66.733650 -66.733650 -66.733650   \n",
      "4    -61.566444 -57.944279 -56.239346 -58.175125 -58.332890 -60.323990   \n",
      "...         ...        ...        ...        ...        ...        ...   \n",
      "3691 -43.600605 -43.108433 -42.603493 -43.467293 -41.499535 -41.084091   \n",
      "3692 -31.270599 -23.656219 -21.566856 -22.070164 -24.841099 -28.609322   \n",
      "3693 -32.686943 -30.507328 -27.698042 -31.798786 -33.790195 -32.447849   \n",
      "3694 -41.914738 -40.399399 -39.371269 -39.626366 -35.696751 -28.868685   \n",
      "3695 -33.994755 -35.718601 -36.789467 -34.117706 -30.381868 -28.359896   \n",
      "\n",
      "            6          7          8          9    ...        206        207  \\\n",
      "0    -65.946724 -65.752853 -65.946724 -65.946724  ...        NaN        NaN   \n",
      "1    -63.724449 -63.724449 -63.724449 -63.724449  ...        NaN        NaN   \n",
      "2    -59.593010 -59.593010 -59.593010 -59.593010  ...        NaN        NaN   \n",
      "3    -66.733650 -66.733650 -66.733650 -66.733650  ...        NaN        NaN   \n",
      "4    -61.112751 -58.362244 -58.234436 -59.695816  ...        NaN        NaN   \n",
      "...         ...        ...        ...        ...  ...        ...        ...   \n",
      "3691 -38.763359 -37.168015 -38.470959 -41.190334  ... -30.920593 -32.094967   \n",
      "3692 -31.833010 -33.966671 -35.018528 -34.283588  ...        NaN        NaN   \n",
      "3693 -32.784134 -32.587418 -32.316013 -29.904999  ...        NaN        NaN   \n",
      "3694 -27.069733 -25.934561 -26.704355 -28.264874  ...        NaN        NaN   \n",
      "3695 -28.562948 -28.232851 -28.796274 -32.348175  ...        NaN        NaN   \n",
      "\n",
      "            208        209        210        211        212        213  \\\n",
      "0           NaN        NaN        NaN        NaN        NaN        NaN   \n",
      "1           NaN        NaN        NaN        NaN        NaN        NaN   \n",
      "2           NaN        NaN        NaN        NaN        NaN        NaN   \n",
      "3           NaN        NaN        NaN        NaN        NaN        NaN   \n",
      "4           NaN        NaN        NaN        NaN        NaN        NaN   \n",
      "...         ...        ...        ...        ...        ...        ...   \n",
      "3691 -34.578396 -36.762932 -38.023891 -35.574318 -34.405258 -38.151634   \n",
      "3692        NaN        NaN        NaN        NaN        NaN        NaN   \n",
      "3693        NaN        NaN        NaN        NaN        NaN        NaN   \n",
      "3694        NaN        NaN        NaN        NaN        NaN        NaN   \n",
      "3695        NaN        NaN        NaN        NaN        NaN        NaN   \n",
      "\n",
      "            214        215  \n",
      "0           NaN        NaN  \n",
      "1           NaN        NaN  \n",
      "2           NaN        NaN  \n",
      "3           NaN        NaN  \n",
      "4           NaN        NaN  \n",
      "...         ...        ...  \n",
      "3691 -38.480564 -37.453854  \n",
      "3692        NaN        NaN  \n",
      "3693        NaN        NaN  \n",
      "3694        NaN        NaN  \n",
      "3695        NaN        NaN  \n",
      "\n",
      "[3696 rows x 216 columns]\n"
     ]
    }
   ],
   "source": [
    "print(tempdf)"
   ]
  },
  {
   "cell_type": "code",
   "execution_count": 14,
   "metadata": {},
   "outputs": [],
   "source": [
    "train_set = train.iloc[:, :-1]\n",
    "train_label = train.iloc[:, -1:]\n",
    "test_set = test.iloc[:, :-1]\n",
    "test_label = test.iloc[:, -1:]"
   ]
  },
  {
   "cell_type": "markdown",
   "metadata": {},
   "source": [
    "# Getting train and test data"
   ]
  },
  {
   "cell_type": "code",
   "execution_count": 15,
   "metadata": {},
   "outputs": [
    {
     "name": "stderr",
     "output_type": "stream",
     "text": [
      "C:\\ProgramData\\Anaconda3\\lib\\site-packages\\sklearn\\utils\\validation.py:72: DataConversionWarning: A column-vector y was passed when a 1d array was expected. Please change the shape of y to (n_samples, ), for example using ravel().\n",
      "  return f(**kwargs)\n"
     ]
    }
   ],
   "source": [
    "X_train = np.array(train_set)\n",
    "y_train = np.array(train_label)\n",
    "X_test = np.array(test_set)\n",
    "y_test = np.array(test_label)\n",
    "\n",
    "lb = LabelEncoder()\n",
    "y_train = np_utils.to_categorical(lb.fit_transform(y_train))\n",
    "y_test = np_utils.to_categorical(lb.fit_transform(y_test))"
   ]
  },
  {
   "cell_type": "code",
   "execution_count": 16,
   "metadata": {},
   "outputs": [
    {
     "name": "stdout",
     "output_type": "stream",
     "text": [
      "(2953, 216)\n",
      "(2953, 6)\n",
      "(743, 216)\n",
      "(743, 6)\n"
     ]
    }
   ],
   "source": [
    "print(X_train.shape)\n",
    "print(y_train.shape)\n",
    "print(X_test.shape)\n",
    "print(y_test.shape)"
   ]
  },
  {
   "cell_type": "code",
   "execution_count": 17,
   "metadata": {},
   "outputs": [
    {
     "name": "stdout",
     "output_type": "stream",
     "text": [
      "[[0. 1. 0. 0. 0. 0.]\n",
      " [0. 0. 1. 0. 0. 0.]\n",
      " [0. 0. 0. 1. 0. 0.]\n",
      " ...\n",
      " [1. 0. 0. 0. 0. 0.]\n",
      " [0. 0. 0. 1. 0. 0.]\n",
      " [0. 0. 0. 1. 0. 0.]]\n"
     ]
    }
   ],
   "source": [
    "print(y_test)"
   ]
  },
  {
   "cell_type": "markdown",
   "metadata": {},
   "source": [
    "# Changing the dimensions for RNN model"
   ]
  },
  {
   "cell_type": "code",
   "execution_count": 18,
   "metadata": {},
   "outputs": [
    {
     "name": "stdout",
     "output_type": "stream",
     "text": [
      "(2953, 216, 1)\n",
      "(743, 216, 1)\n",
      "(2953, 6)\n",
      "(743, 6)\n"
     ]
    }
   ],
   "source": [
    "x_trainrnn =np.expand_dims(X_train, axis=2)\n",
    "x_testrnn= np.expand_dims(X_test, axis=2)\n",
    "print(x_trainrnn.shape)\n",
    "print(x_testrnn.shape)\n",
    "print(y_train.shape)\n",
    "print(y_test.shape)"
   ]
  },
  {
   "cell_type": "markdown",
   "metadata": {},
   "source": [
    "# Training the model using Recurrent neural network"
   ]
  },
  {
   "cell_type": "code",
   "execution_count": 21,
   "metadata": {},
   "outputs": [],
   "source": [
    "import tensorflow as tf\n",
    "import keras\n",
    "from keras.layers.recurrent import LSTM, SimpleRNN\n",
    "from keras.layers import Input, Flatten, Dropout, Activation, Dense\n",
    "from keras.models import Sequential\n"
   ]
  },
  {
   "cell_type": "code",
   "execution_count": 22,
   "metadata": {},
   "outputs": [
    {
     "name": "stdout",
     "output_type": "stream",
     "text": [
      "Model: \"sequential_1\"\n",
      "_________________________________________________________________\n",
      "Layer (type)                 Output Shape              Param #   \n",
      "=================================================================\n",
      "simple_rnn (SimpleRNN)       (None, 216, 24)           624       \n",
      "_________________________________________________________________\n",
      "dropout (Dropout)            (None, 216, 24)           0         \n",
      "_________________________________________________________________\n",
      "dense (Dense)                (None, 216, 24)           600       \n",
      "_________________________________________________________________\n",
      "dense_1 (Dense)              (None, 216, 64)           1600      \n",
      "_________________________________________________________________\n",
      "dropout_1 (Dropout)          (None, 216, 64)           0         \n",
      "_________________________________________________________________\n",
      "dense_2 (Dense)              (None, 216, 12)           780       \n",
      "_________________________________________________________________\n",
      "dropout_2 (Dropout)          (None, 216, 12)           0         \n",
      "_________________________________________________________________\n",
      "flatten (Flatten)            (None, 2592)              0         \n",
      "_________________________________________________________________\n",
      "dense_3 (Dense)              (None, 6)                 15558     \n",
      "=================================================================\n",
      "Total params: 19,162\n",
      "Trainable params: 19,162\n",
      "Non-trainable params: 0\n",
      "_________________________________________________________________\n"
     ]
    }
   ],
   "source": [
    "input_shape=(216,1)\n",
    "model = keras.Sequential()\n",
    "model.add(SimpleRNN(24,input_shape=input_shape,return_sequences = True))\n",
    "model.add(Dropout(0.2))\n",
    "model.add(Dense(24, activation='relu'))\n",
    "model.add(Dense(64, activation='relu'))\n",
    "model.add(Dropout(0.4))\n",
    "model.add(Dense(12, activation='relu'))\n",
    "model.add(Dropout(0.4))\n",
    "model.add(Flatten())\n",
    "model.add(Dense(6, activation='softmax'))\n",
    "model.summary()"
   ]
  },
  {
   "cell_type": "code",
   "execution_count": 23,
   "metadata": {},
   "outputs": [],
   "source": [
    "model.compile(optimizer='adam',loss='categorical_crossentropy',metrics=['acc'])"
   ]
  },
  {
   "cell_type": "code",
   "execution_count": 24,
   "metadata": {},
   "outputs": [
    {
     "name": "stdout",
     "output_type": "stream",
     "text": [
      "Epoch 1/50\n",
      "185/185 [==============================] - 35s 151ms/step - loss: 1.5717 - acc: 0.3082 - val_loss: 1.4258 - val_acc: 0.3513\n",
      "Epoch 2/50\n",
      "185/185 [==============================] - 26s 139ms/step - loss: 1.3995 - acc: 0.3444 - val_loss: 1.3882 - val_acc: 0.3742\n",
      "Epoch 3/50\n",
      "185/185 [==============================] - 27s 143ms/step - loss: 1.3322 - acc: 0.3776 - val_loss: 1.3464 - val_acc: 0.3943\n",
      "Epoch 4/50\n",
      "185/185 [==============================] - 28s 154ms/step - loss: 1.2734 - acc: 0.4331 - val_loss: 1.2350 - val_acc: 0.5262\n",
      "Epoch 5/50\n",
      "185/185 [==============================] - 27s 146ms/step - loss: 1.1493 - acc: 0.5313 - val_loss: 1.0430 - val_acc: 0.5962\n",
      "Epoch 6/50\n",
      "185/185 [==============================] - 24s 127ms/step - loss: 1.0567 - acc: 0.5720 - val_loss: 0.9686 - val_acc: 0.6299\n",
      "Epoch 7/50\n",
      "185/185 [==============================] - 25s 137ms/step - loss: 0.9735 - acc: 0.6173 - val_loss: 0.9145 - val_acc: 0.6406\n",
      "Epoch 8/50\n",
      "185/185 [==============================] - 26s 141ms/step - loss: 0.9346 - acc: 0.6326 - val_loss: 0.9229 - val_acc: 0.6406\n",
      "Epoch 9/50\n",
      "185/185 [==============================] - 27s 146ms/step - loss: 0.9330 - acc: 0.6336 - val_loss: 0.8960 - val_acc: 0.6514\n",
      "Epoch 10/50\n",
      "185/185 [==============================] - 29s 154ms/step - loss: 0.8846 - acc: 0.6539 - val_loss: 0.8900 - val_acc: 0.6555\n",
      "Epoch 11/50\n",
      "185/185 [==============================] - 23s 124ms/step - loss: 0.8612 - acc: 0.6542 - val_loss: 0.8809 - val_acc: 0.6649\n",
      "Epoch 12/50\n",
      "185/185 [==============================] - 25s 137ms/step - loss: 0.8447 - acc: 0.6756 - val_loss: 0.8897 - val_acc: 0.6501\n",
      "Epoch 13/50\n",
      "185/185 [==============================] - 26s 138ms/step - loss: 0.8307 - acc: 0.6756 - val_loss: 0.9141 - val_acc: 0.6487\n",
      "Epoch 14/50\n",
      "185/185 [==============================] - 26s 143ms/step - loss: 0.8214 - acc: 0.6705 - val_loss: 0.8693 - val_acc: 0.6635\n",
      "Epoch 15/50\n",
      "185/185 [==============================] - 27s 148ms/step - loss: 0.8055 - acc: 0.6874 - val_loss: 0.8720 - val_acc: 0.6676\n",
      "Epoch 16/50\n",
      "185/185 [==============================] - 30s 164ms/step - loss: 0.7963 - acc: 0.6769 - val_loss: 0.8687 - val_acc: 0.6622\n",
      "Epoch 17/50\n",
      "185/185 [==============================] - 26s 141ms/step - loss: 0.7865 - acc: 0.6908 - val_loss: 0.8733 - val_acc: 0.6662\n",
      "Epoch 18/50\n",
      "185/185 [==============================] - 24s 131ms/step - loss: 0.7767 - acc: 0.6952 - val_loss: 0.8773 - val_acc: 0.6635\n",
      "Epoch 19/50\n",
      "185/185 [==============================] - 25s 136ms/step - loss: 0.7594 - acc: 0.7037 - val_loss: 0.8804 - val_acc: 0.6689\n",
      "Epoch 20/50\n",
      "185/185 [==============================] - 27s 144ms/step - loss: 0.7509 - acc: 0.7050 - val_loss: 0.8814 - val_acc: 0.6541\n",
      "Epoch 21/50\n",
      "185/185 [==============================] - 29s 154ms/step - loss: 0.7527 - acc: 0.7027 - val_loss: 0.8646 - val_acc: 0.6595\n",
      "Epoch 22/50\n",
      "185/185 [==============================] - 27s 148ms/step - loss: 0.7387 - acc: 0.7054 - val_loss: 0.8829 - val_acc: 0.6595\n",
      "Epoch 23/50\n",
      "185/185 [==============================] - 23s 127ms/step - loss: 0.7362 - acc: 0.7050 - val_loss: 0.8844 - val_acc: 0.6501\n",
      "Epoch 24/50\n",
      "185/185 [==============================] - 25s 136ms/step - loss: 0.7261 - acc: 0.7091 - val_loss: 0.8860 - val_acc: 0.6514\n",
      "Epoch 25/50\n",
      "185/185 [==============================] - 26s 140ms/step - loss: 0.7242 - acc: 0.7196 - val_loss: 0.8883 - val_acc: 0.6555\n",
      "Epoch 26/50\n",
      "185/185 [==============================] - 25s 137ms/step - loss: 0.7274 - acc: 0.7084 - val_loss: 0.8681 - val_acc: 0.6595\n",
      "Epoch 27/50\n",
      "185/185 [==============================] - 26s 140ms/step - loss: 0.7020 - acc: 0.7254 - val_loss: 0.8751 - val_acc: 0.6649\n",
      "Epoch 28/50\n",
      "185/185 [==============================] - 23s 127ms/step - loss: 0.6984 - acc: 0.7281 - val_loss: 0.8706 - val_acc: 0.6676\n",
      "Epoch 29/50\n",
      "185/185 [==============================] - 24s 128ms/step - loss: 0.6891 - acc: 0.7284 - val_loss: 0.8888 - val_acc: 0.6460\n",
      "Epoch 30/50\n",
      "185/185 [==============================] - 24s 131ms/step - loss: 0.6744 - acc: 0.7359 - val_loss: 0.8811 - val_acc: 0.6622\n",
      "Epoch 31/50\n",
      "185/185 [==============================] - 24s 131ms/step - loss: 0.6714 - acc: 0.7298 - val_loss: 0.9017 - val_acc: 0.6541\n",
      "Epoch 32/50\n",
      "185/185 [==============================] - 25s 134ms/step - loss: 0.6724 - acc: 0.7338 - val_loss: 0.8998 - val_acc: 0.6514\n",
      "Epoch 33/50\n",
      "185/185 [==============================] - 26s 143ms/step - loss: 0.6794 - acc: 0.7271 - val_loss: 0.8730 - val_acc: 0.6514\n",
      "Epoch 34/50\n",
      "185/185 [==============================] - 21s 116ms/step - loss: 0.6607 - acc: 0.7379 - val_loss: 0.8908 - val_acc: 0.6622\n",
      "Epoch 35/50\n",
      "185/185 [==============================] - 23s 127ms/step - loss: 0.6822 - acc: 0.7318 - val_loss: 0.9054 - val_acc: 0.6487\n",
      "Epoch 36/50\n",
      "185/185 [==============================] - 23s 124ms/step - loss: 0.6648 - acc: 0.7453 - val_loss: 0.8921 - val_acc: 0.6581\n",
      "Epoch 37/50\n",
      "185/185 [==============================] - 25s 138ms/step - loss: 0.6562 - acc: 0.7362 - val_loss: 0.8871 - val_acc: 0.6501\n",
      "Epoch 38/50\n",
      "185/185 [==============================] - 25s 135ms/step - loss: 0.6471 - acc: 0.7386 - val_loss: 0.9047 - val_acc: 0.6420\n",
      "Epoch 39/50\n",
      "185/185 [==============================] - 23s 123ms/step - loss: 0.6573 - acc: 0.7386 - val_loss: 0.8899 - val_acc: 0.6635\n",
      "Epoch 40/50\n",
      "185/185 [==============================] - 23s 124ms/step - loss: 0.6565 - acc: 0.7392 - val_loss: 0.9094 - val_acc: 0.6595\n",
      "Epoch 41/50\n",
      "185/185 [==============================] - 23s 125ms/step - loss: 0.6448 - acc: 0.7491 - val_loss: 0.8796 - val_acc: 0.6689\n",
      "Epoch 42/50\n",
      "185/185 [==============================] - 25s 133ms/step - loss: 0.6462 - acc: 0.7443 - val_loss: 0.8872 - val_acc: 0.6676\n",
      "Epoch 43/50\n",
      "185/185 [==============================] - 34s 187ms/step - loss: 0.6369 - acc: 0.7494 - val_loss: 0.8849 - val_acc: 0.6568\n",
      "Epoch 44/50\n",
      "185/185 [==============================] - 34s 184ms/step - loss: 0.6313 - acc: 0.7521 - val_loss: 0.8984 - val_acc: 0.6608\n",
      "Epoch 45/50\n",
      "185/185 [==============================] - 35s 191ms/step - loss: 0.6236 - acc: 0.7508 - val_loss: 0.8874 - val_acc: 0.6689\n",
      "Epoch 46/50\n",
      "185/185 [==============================] - 37s 197ms/step - loss: 0.6302 - acc: 0.7460 - val_loss: 0.9032 - val_acc: 0.6608\n",
      "Epoch 47/50\n",
      "185/185 [==============================] - 32s 175ms/step - loss: 0.6310 - acc: 0.7477 - val_loss: 0.8896 - val_acc: 0.6703\n",
      "Epoch 48/50\n",
      "185/185 [==============================] - 35s 189ms/step - loss: 0.6335 - acc: 0.7521 - val_loss: 0.9133 - val_acc: 0.6541\n",
      "Epoch 49/50\n",
      "185/185 [==============================] - 37s 198ms/step - loss: 0.6200 - acc: 0.7518 - val_loss: 0.9124 - val_acc: 0.6608\n",
      "Epoch 50/50\n",
      "185/185 [==============================] - 33s 181ms/step - loss: 0.6207 - acc: 0.7552 - val_loss: 0.9029 - val_acc: 0.6635\n"
     ]
    }
   ],
   "source": [
    "rnnhistory = model.fit(x_trainrnn, y_train, epochs=50, batch_size=16, validation_data=(x_testrnn, y_test), shuffle=False)"
   ]
  },
  {
   "cell_type": "code",
   "execution_count": 25,
   "metadata": {},
   "outputs": [
    {
     "data": {
      "image/png": "[encoded data removed]",
      "text/plain": [
       "<Figure size 432x288 with 1 Axes>"
      ]
     },
     "metadata": {
      "needs_background": "light"
     },
     "output_type": "display_data"
    }
   ],
   "source": [
    "plt.plot(rnnhistory.history['acc'])\n",
    "plt.plot(rnnhistory.history['val_acc'])\n",
    "plt.title('model accuracy')\n",
    "plt.ylabel('accuracy')\n",
    "plt.xlabel('epoch')\n",
    "plt.legend(['train', 'test'], loc='upper left')\n",
    "plt.show()"
   ]
  },
  {
   "cell_type": "code",
   "execution_count": null,
   "metadata": {},
   "outputs": [],
   "source": []
  }
 ],
 "metadata": {
  "kernelspec": {
   "display_name": "Python 3",
   "language": "python",
   "name": "python3"
  },
  "language_info": {
   "codemirror_mode": {
    "name": "ipython",
    "version": 3
   },
   "file_extension": ".py",
   "mimetype": "text/x-python",
   "name": "python",
   "nbconvert_exporter": "python",
   "pygments_lexer": "ipython3",
   "version": "3.8.5"
  }
 },
 "nbformat": 4,
 "nbformat_minor": 4
}
