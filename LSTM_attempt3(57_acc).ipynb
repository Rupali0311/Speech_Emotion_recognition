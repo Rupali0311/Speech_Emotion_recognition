{
 "cells": [
  {
   "cell_type": "markdown",
   "metadata": {},
   "source": [
    "# Importing the Libraries"
   ]
  },
  {
   "cell_type": "code",
   "execution_count": 1,
   "metadata": {},
   "outputs": [],
   "source": [
    "import librosa\n",
    "import librosa.display\n",
    "import numpy as np\n",
    "import matplotlib.pyplot as plt\n",
    "from sklearn.ensemble import RandomForestClassifier\n",
    "from sklearn.metrics import confusion_matrix, accuracy_score, classification_report\n",
    "from sklearn.utils import shuffle\n",
    "from keras.utils import np_utils\n",
    "from sklearn.preprocessing import LabelEncoder\n",
    "import os\n",
    "import pandas as pd\n",
    "import librosa\n",
    "import glob \n",
    "from sklearn.metrics import accuracy_score"
   ]
  },
  {
   "cell_type": "markdown",
   "metadata": {},
   "source": [
    "# Loading the dataset"
   ]
  },
  {
   "cell_type": "code",
   "execution_count": 2,
   "metadata": {},
   "outputs": [],
   "source": [
    "rav_sav= os.listdir('Dataset1/')\n",
    "tess= os.listdir('Dataset2/')"
   ]
  },
  {
   "cell_type": "markdown",
   "metadata": {},
   "source": [
    "# Printing size of dataset"
   ]
  },
  {
   "cell_type": "code",
   "execution_count": 3,
   "metadata": {},
   "outputs": [
    {
     "name": "stdout",
     "output_type": "stream",
     "text": [
      "1920\n",
      "2800\n"
     ]
    }
   ],
   "source": [
    "print(len(rav_sav))\n",
    "print(len(tess))"
   ]
  },
  {
   "cell_type": "markdown",
   "metadata": {},
   "source": [
    "# Mapping the data of RAVDESS and SAVEE"
   ]
  },
  {
   "cell_type": "code",
   "execution_count": 4,
   "metadata": {},
   "outputs": [],
   "source": [
    "emotions=[]\n",
    "for file in rav_sav:\n",
    "    if file[6:-16]=='01':\n",
    "        emotions.append('neutral')\n",
    "    elif file[6:-16]=='03' and int(file[18:-4])%2==0:\n",
    "        emotions.append('happy')\n",
    "    elif file[6:-16]=='03' and int(file[18:-4])%2==1:\n",
    "        emotions.append('happy')\n",
    "    elif file[6:-16]=='04' and int(file[18:-4])%2==0:\n",
    "        emotions.append('sad')\n",
    "    elif file[6:-16]=='04' and int(file[18:-4])%2==1:\n",
    "        emotions.append('sad')\n",
    "    elif file[6:-16]=='05' and int(file[18:-4])%2==0:\n",
    "        emotions.append('angry')\n",
    "    elif file[6:-16]=='05' and int(file[18:-4])%2==1:\n",
    "        emotions.append('angry')\n",
    "    elif file[6:-16]=='06' and int(file[18:-4])%2==0:\n",
    "        emotions.append('fearful')\n",
    "    elif file[6:-16]=='06' and int(file[18:-4])%2==1:\n",
    "        emotions.append('fearful')\n",
    "    elif file[6:-16]=='07':\n",
    "        emotions.append('disgust')\n",
    "    elif file[:1]=='a':\n",
    "        emotions.append('angry')\n",
    "    elif file[:1]=='f':\n",
    "        emotions.append('fearful')\n",
    "    elif file[:1]=='h':\n",
    "        emotions.append('happy')\n",
    "    elif file[:2]=='sa':\n",
    "        emotions.append('sad')"
   ]
  },
  {
   "cell_type": "markdown",
   "metadata": {},
   "source": [
    "# Mapping the data of TESS"
   ]
  },
  {
   "cell_type": "code",
   "execution_count": 5,
   "metadata": {},
   "outputs": [],
   "source": [
    "for file in tess:\n",
    "    if file[-11:-4]=='neutral':\n",
    "        emotions.append('neutral')\n",
    "    elif file[-9:-4]=='angry':\n",
    "        emotions.append('angry')\n",
    "    elif file[-11:-4]=='disgust':\n",
    "        emotions.append('disgust')\n",
    "    elif file[-9:-4]=='happy':\n",
    "        emotions.append('happy')\n",
    "    elif file[-7:-4]=='sad':\n",
    "        emotions.append('sad')\n",
    "    elif file[-8:-4]=='fear':\n",
    "        emotions.append('fearful')"
   ]
  },
  {
   "cell_type": "markdown",
   "metadata": {},
   "source": [
    "# Labelling the data"
   ]
  },
  {
   "cell_type": "code",
   "execution_count": 6,
   "metadata": {},
   "outputs": [],
   "source": [
    "labels = pd.DataFrame(emotions)"
   ]
  },
  {
   "cell_type": "markdown",
   "metadata": {},
   "source": [
    "# Feature Extraction of RAVDESS and SAVEE dataset using mfcc"
   ]
  },
  {
   "cell_type": "code",
   "execution_count": 7,
   "metadata": {},
   "outputs": [],
   "source": [
    "df = pd.DataFrame(columns=['feature'])\n",
    "count=0\n",
    "for i,y in enumerate(rav_sav):\n",
    "    if rav_sav[i][6:-16]!='02' and rav_sav[i][6:-16]!='08' and rav_sav[i][:2]!='su' and rav_sav[i][:1]!='n' and rav_sav[i][:1]!='d':\n",
    "        X, sample_rate = librosa.load('Dataset1/'+y, res_type='kaiser_fast',duration=2.5,sr=22050,offset=0)\n",
    "        sample_rate = np.array(sample_rate)\n",
    "        mfccs = np.mean(librosa.feature.mfcc(y=X, sr=sample_rate, n_mfcc=13), axis=0)\n",
    "        feature = mfccs\n",
    "        df.loc[count] = [feature]\n",
    "        count=count+1  "
   ]
  },
  {
   "cell_type": "markdown",
   "metadata": {},
   "source": [
    "# Feature extraction of TESS dataset using mfcc"
   ]
  },
  {
   "cell_type": "code",
   "execution_count": 8,
   "metadata": {},
   "outputs": [],
   "source": [
    "for i,y in enumerate(tess):\n",
    "     if tess[i][-6:-4]!='ps':\n",
    "        X, sample_rate = librosa.load('Dataset2/'+y, res_type='kaiser_fast',duration=2.5,sr=22050*2,offset=0)\n",
    "        sample_rate = np.array(sample_rate)\n",
    "        mfccs = np.mean(librosa.feature.mfcc(y=X,  sr=sample_rate,  n_mfcc=13), axis=0)\n",
    "        feature = mfccs\n",
    "        df.loc[count] = [feature]\n",
    "        count=count+1 "
   ]
  },
  {
   "cell_type": "code",
   "execution_count": 9,
   "metadata": {},
   "outputs": [
    {
     "name": "stdout",
     "output_type": "stream",
     "text": [
      "                                                feature\n",
      "0     [-65.946724, -65.946724, -65.946724, -65.94672...\n",
      "1     [-63.72445, -63.72445, -63.72445, -63.72445, -...\n",
      "2     [-59.59301, -59.59301, -59.59301, -59.59301, -...\n",
      "3     [-66.73365, -66.73365, -66.73365, -66.73365, -...\n",
      "4     [-61.566444, -57.94428, -56.239346, -58.175125...\n",
      "...                                                 ...\n",
      "3691  [-43.600605, -43.108433, -42.603493, -43.46729...\n",
      "3692  [-31.2706, -23.65622, -21.566856, -22.070164, ...\n",
      "3693  [-32.686943, -30.507328, -27.698042, -31.79878...\n",
      "3694  [-41.914738, -40.3994, -39.37127, -39.626366, ...\n",
      "3695  [-33.994755, -35.7186, -36.789467, -34.117706,...\n",
      "\n",
      "[3696 rows x 1 columns]\n"
     ]
    }
   ],
   "source": [
    "print(df)"
   ]
  },
  {
   "cell_type": "markdown",
   "metadata": {},
   "source": [
    "# Splitting into train and test data"
   ]
  },
  {
   "cell_type": "code",
   "execution_count": 10,
   "metadata": {},
   "outputs": [],
   "source": [
    "tempdf = pd.DataFrame(df['feature'].values.tolist())\n",
    "df_new = pd.concat([tempdf,labels], axis=1)"
   ]
  },
  {
   "cell_type": "code",
   "execution_count": 11,
   "metadata": {},
   "outputs": [],
   "source": [
    "ren_df = df_new.rename(index=str, columns={\"0\": \"label\"})\n",
    "ren_df = shuffle(df_new)\n",
    "ren_df = ren_df.fillna(0)\n",
    "final_df = np.random.rand(len(ren_df)) < 0.8"
   ]
  },
  {
   "cell_type": "code",
   "execution_count": 12,
   "metadata": {},
   "outputs": [
    {
     "name": "stdout",
     "output_type": "stream",
     "text": [
      "2946\n",
      "750\n"
     ]
    }
   ],
   "source": [
    "train = ren_df[final_df]\n",
    "test = ren_df[~final_df]\n",
    "print(len(train))\n",
    "print(len(test))"
   ]
  },
  {
   "cell_type": "code",
   "execution_count": 13,
   "metadata": {},
   "outputs": [
    {
     "name": "stdout",
     "output_type": "stream",
     "text": [
      "            0          1          2          3          4          5    \\\n",
      "0    -65.946724 -65.946724 -65.946724 -65.946724 -65.946724 -65.946724   \n",
      "1    -63.724449 -63.724449 -63.724449 -63.724449 -63.724449 -63.724449   \n",
      "2    -59.593010 -59.593010 -59.593010 -59.593010 -59.593010 -59.593010   \n",
      "3    -66.733650 -66.733650 -66.733650 -66.733650 -66.733650 -66.733650   \n",
      "4    -61.566444 -57.944279 -56.239346 -58.175125 -58.332890 -60.323990   \n",
      "...         ...        ...        ...        ...        ...        ...   \n",
      "3691 -43.600605 -43.108433 -42.603493 -43.467293 -41.499535 -41.084091   \n",
      "3692 -31.270599 -23.656219 -21.566856 -22.070164 -24.841099 -28.609322   \n",
      "3693 -32.686943 -30.507328 -27.698042 -31.798786 -33.790195 -32.447849   \n",
      "3694 -41.914738 -40.399399 -39.371269 -39.626366 -35.696751 -28.868685   \n",
      "3695 -33.994755 -35.718601 -36.789467 -34.117706 -30.381868 -28.359896   \n",
      "\n",
      "            6          7          8          9    ...        206        207  \\\n",
      "0    -65.946724 -65.752853 -65.946724 -65.946724  ...        NaN        NaN   \n",
      "1    -63.724449 -63.724449 -63.724449 -63.724449  ...        NaN        NaN   \n",
      "2    -59.593010 -59.593010 -59.593010 -59.593010  ...        NaN        NaN   \n",
      "3    -66.733650 -66.733650 -66.733650 -66.733650  ...        NaN        NaN   \n",
      "4    -61.112751 -58.362244 -58.234436 -59.695816  ...        NaN        NaN   \n",
      "...         ...        ...        ...        ...  ...        ...        ...   \n",
      "3691 -38.763359 -37.168015 -38.470959 -41.190334  ... -30.920593 -32.094967   \n",
      "3692 -31.833010 -33.966671 -35.018528 -34.283588  ...        NaN        NaN   \n",
      "3693 -32.784134 -32.587418 -32.316013 -29.904999  ...        NaN        NaN   \n",
      "3694 -27.069733 -25.934561 -26.704355 -28.264874  ...        NaN        NaN   \n",
      "3695 -28.562948 -28.232851 -28.796274 -32.348175  ...        NaN        NaN   \n",
      "\n",
      "            208        209        210        211        212        213  \\\n",
      "0           NaN        NaN        NaN        NaN        NaN        NaN   \n",
      "1           NaN        NaN        NaN        NaN        NaN        NaN   \n",
      "2           NaN        NaN        NaN        NaN        NaN        NaN   \n",
      "3           NaN        NaN        NaN        NaN        NaN        NaN   \n",
      "4           NaN        NaN        NaN        NaN        NaN        NaN   \n",
      "...         ...        ...        ...        ...        ...        ...   \n",
      "3691 -34.578396 -36.762932 -38.023891 -35.574318 -34.405258 -38.151634   \n",
      "3692        NaN        NaN        NaN        NaN        NaN        NaN   \n",
      "3693        NaN        NaN        NaN        NaN        NaN        NaN   \n",
      "3694        NaN        NaN        NaN        NaN        NaN        NaN   \n",
      "3695        NaN        NaN        NaN        NaN        NaN        NaN   \n",
      "\n",
      "            214        215  \n",
      "0           NaN        NaN  \n",
      "1           NaN        NaN  \n",
      "2           NaN        NaN  \n",
      "3           NaN        NaN  \n",
      "4           NaN        NaN  \n",
      "...         ...        ...  \n",
      "3691 -38.480564 -37.453854  \n",
      "3692        NaN        NaN  \n",
      "3693        NaN        NaN  \n",
      "3694        NaN        NaN  \n",
      "3695        NaN        NaN  \n",
      "\n",
      "[3696 rows x 216 columns]\n"
     ]
    }
   ],
   "source": [
    "print(tempdf)"
   ]
  },
  {
   "cell_type": "code",
   "execution_count": 14,
   "metadata": {},
   "outputs": [],
   "source": [
    "train_set = train.iloc[:, :-1]\n",
    "train_label = train.iloc[:, -1:]\n",
    "test_set = test.iloc[:, :-1]\n",
    "test_label = test.iloc[:, -1:]"
   ]
  },
  {
   "cell_type": "markdown",
   "metadata": {},
   "source": [
    "# Getting train and test data"
   ]
  },
  {
   "cell_type": "code",
   "execution_count": 15,
   "metadata": {},
   "outputs": [
    {
     "name": "stderr",
     "output_type": "stream",
     "text": [
      "C:\\ProgramData\\Anaconda3\\lib\\site-packages\\sklearn\\utils\\validation.py:72: DataConversionWarning: A column-vector y was passed when a 1d array was expected. Please change the shape of y to (n_samples, ), for example using ravel().\n",
      "  return f(**kwargs)\n"
     ]
    }
   ],
   "source": [
    "X_train = np.array(train_set)\n",
    "y_train = np.array(train_label)\n",
    "X_test = np.array(test_set)\n",
    "y_test = np.array(test_label)\n",
    "\n",
    "lb = LabelEncoder()\n",
    "y_train = np_utils.to_categorical(lb.fit_transform(y_train))\n",
    "y_test = np_utils.to_categorical(lb.fit_transform(y_test))"
   ]
  },
  {
   "cell_type": "code",
   "execution_count": 16,
   "metadata": {},
   "outputs": [
    {
     "name": "stdout",
     "output_type": "stream",
     "text": [
      "(2946, 216)\n",
      "(2946, 6)\n",
      "(750, 216)\n",
      "(750, 6)\n"
     ]
    }
   ],
   "source": [
    "print(X_train.shape)\n",
    "print(y_train.shape)\n",
    "print(X_test.shape)\n",
    "print(y_test.shape)"
   ]
  },
  {
   "cell_type": "code",
   "execution_count": 17,
   "metadata": {},
   "outputs": [
    {
     "name": "stdout",
     "output_type": "stream",
     "text": [
      "[[0. 0. 0. 0. 0. 1.]\n",
      " [1. 0. 0. 0. 0. 0.]\n",
      " [1. 0. 0. 0. 0. 0.]\n",
      " ...\n",
      " [1. 0. 0. 0. 0. 0.]\n",
      " [0. 0. 0. 0. 0. 1.]\n",
      " [1. 0. 0. 0. 0. 0.]]\n"
     ]
    }
   ],
   "source": [
    "print(y_test)"
   ]
  },
  {
   "cell_type": "markdown",
   "metadata": {},
   "source": [
    "# Changing the dimensions for RNN model"
   ]
  },
  {
   "cell_type": "code",
   "execution_count": 18,
   "metadata": {},
   "outputs": [
    {
     "name": "stdout",
     "output_type": "stream",
     "text": [
      "(2946, 216, 1)\n",
      "(750, 216, 1)\n",
      "(2946, 6)\n",
      "(750, 6)\n"
     ]
    }
   ],
   "source": [
    "x_trainrnn =np.expand_dims(X_train, axis=2)\n",
    "x_testrnn= np.expand_dims(X_test, axis=2)\n",
    "print(x_trainrnn.shape)\n",
    "print(x_testrnn.shape)\n",
    "print(y_train.shape)\n",
    "print(y_test.shape)"
   ]
  },
  {
   "cell_type": "markdown",
   "metadata": {},
   "source": [
    "# Training the model using Recurrent neural network"
   ]
  },
  {
   "cell_type": "code",
   "execution_count": 19,
   "metadata": {},
   "outputs": [],
   "source": [
    "import tensorflow as tf\n",
    "import keras\n",
    "from keras.layers.recurrent import LSTM\n",
    "from keras.layers import Input, Flatten, Dropout, Activation, Dense\n",
    "from keras.models import Sequential\n"
   ]
  },
  {
   "cell_type": "code",
   "execution_count": 20,
   "metadata": {},
   "outputs": [
    {
     "name": "stdout",
     "output_type": "stream",
     "text": [
      "Model: \"sequential\"\n",
      "_________________________________________________________________\n",
      "Layer (type)                 Output Shape              Param #   \n",
      "=================================================================\n",
      "lstm (LSTM)                  (None, 216, 24)           2496      \n",
      "_________________________________________________________________\n",
      "lstm_1 (LSTM)                (None, 24)                4704      \n",
      "_________________________________________________________________\n",
      "dense (Dense)                (None, 64)                1600      \n",
      "_________________________________________________________________\n",
      "flatten (Flatten)            (None, 64)                0         \n",
      "_________________________________________________________________\n",
      "dense_1 (Dense)              (None, 6)                 390       \n",
      "=================================================================\n",
      "Total params: 9,190\n",
      "Trainable params: 9,190\n",
      "Non-trainable params: 0\n",
      "_________________________________________________________________\n"
     ]
    }
   ],
   "source": [
    "input_shape=(216,1)\n",
    "model = keras.Sequential()\n",
    "model.add(LSTM(24,input_shape=input_shape,return_sequences = True))\n",
    "model.add(LSTM(24,return_sequences = False))\n",
    "model.add(Dense(64, activation='relu'))\n",
    "model.add(Flatten())\n",
    "model.add(Dense(6, activation='softmax'))\n",
    "model.summary()"
   ]
  },
  {
   "cell_type": "code",
   "execution_count": 21,
   "metadata": {},
   "outputs": [],
   "source": [
    "model.compile(optimizer='adam',loss='categorical_crossentropy',metrics=['acc'])"
   ]
  },
  {
   "cell_type": "code",
   "execution_count": 22,
   "metadata": {},
   "outputs": [
    {
     "name": "stdout",
     "output_type": "stream",
     "text": [
      "Epoch 1/50\n",
      "185/185 [==============================] - 84s 435ms/step - loss: 1.5609 - acc: 0.3170 - val_loss: 1.4399 - val_acc: 0.3827\n",
      "Epoch 2/50\n",
      "185/185 [==============================] - 82s 444ms/step - loss: 1.4026 - acc: 0.3761 - val_loss: 1.3655 - val_acc: 0.3893\n",
      "Epoch 3/50\n",
      "185/185 [==============================] - 81s 439ms/step - loss: 1.3467 - acc: 0.3842 - val_loss: 1.3028 - val_acc: 0.4200\n",
      "Epoch 4/50\n",
      "185/185 [==============================] - 82s 445ms/step - loss: 1.2814 - acc: 0.4063 - val_loss: 1.2672 - val_acc: 0.3720\n",
      "Epoch 5/50\n",
      "185/185 [==============================] - 80s 434ms/step - loss: 1.2698 - acc: 0.3971 - val_loss: 1.2786 - val_acc: 0.3840\n",
      "Epoch 6/50\n",
      "185/185 [==============================] - 82s 441ms/step - loss: 1.2563 - acc: 0.4039 - val_loss: 1.2609 - val_acc: 0.3960\n",
      "Epoch 7/50\n",
      "185/185 [==============================] - 81s 437ms/step - loss: 1.2429 - acc: 0.4158 - val_loss: 1.2412 - val_acc: 0.4240\n",
      "Epoch 8/50\n",
      "185/185 [==============================] - 81s 436ms/step - loss: 1.2246 - acc: 0.4331 - val_loss: 1.2399 - val_acc: 0.3933\n",
      "Epoch 9/50\n",
      "185/185 [==============================] - 81s 438ms/step - loss: 1.2207 - acc: 0.4362 - val_loss: 1.2398 - val_acc: 0.4027\n",
      "Epoch 10/50\n",
      "185/185 [==============================] - 83s 446ms/step - loss: 1.2152 - acc: 0.4372 - val_loss: 1.2041 - val_acc: 0.4387\n",
      "Epoch 11/50\n",
      "185/185 [==============================] - 81s 438ms/step - loss: 1.2085 - acc: 0.4498 - val_loss: 1.2192 - val_acc: 0.4360\n",
      "Epoch 12/50\n",
      "185/185 [==============================] - 81s 439ms/step - loss: 1.2038 - acc: 0.4467 - val_loss: 1.2102 - val_acc: 0.4293\n",
      "Epoch 13/50\n",
      "185/185 [==============================] - 82s 446ms/step - loss: 1.2069 - acc: 0.4477 - val_loss: 1.2164 - val_acc: 0.4373\n",
      "Epoch 14/50\n",
      "185/185 [==============================] - 81s 440ms/step - loss: 1.1967 - acc: 0.4521 - val_loss: 1.2265 - val_acc: 0.4347\n",
      "Epoch 15/50\n",
      "185/185 [==============================] - 82s 443ms/step - loss: 1.1900 - acc: 0.4549 - val_loss: 1.2181 - val_acc: 0.4333\n",
      "Epoch 16/50\n",
      "185/185 [==============================] - 80s 435ms/step - loss: 1.2039 - acc: 0.4525 - val_loss: 1.2210 - val_acc: 0.4213\n",
      "Epoch 17/50\n",
      "185/185 [==============================] - 81s 439ms/step - loss: 1.1923 - acc: 0.4470 - val_loss: 1.2343 - val_acc: 0.4267\n",
      "Epoch 18/50\n",
      "185/185 [==============================] - 82s 441ms/step - loss: 1.1917 - acc: 0.4498 - val_loss: 1.2137 - val_acc: 0.4680\n",
      "Epoch 19/50\n",
      "185/185 [==============================] - 81s 436ms/step - loss: 1.1857 - acc: 0.4498 - val_loss: 1.1911 - val_acc: 0.4667\n",
      "Epoch 20/50\n",
      "185/185 [==============================] - 82s 445ms/step - loss: 1.1964 - acc: 0.4528 - val_loss: 1.1773 - val_acc: 0.4627\n",
      "Epoch 21/50\n",
      "185/185 [==============================] - 82s 444ms/step - loss: 1.1717 - acc: 0.4630 - val_loss: 1.1739 - val_acc: 0.4587\n",
      "Epoch 22/50\n",
      "185/185 [==============================] - 86s 463ms/step - loss: 1.1593 - acc: 0.4684 - val_loss: 1.1688 - val_acc: 0.4600\n",
      "Epoch 23/50\n",
      "185/185 [==============================] - 83s 451ms/step - loss: 1.1417 - acc: 0.4810 - val_loss: 1.1684 - val_acc: 0.4680\n",
      "Epoch 24/50\n",
      "185/185 [==============================] - 83s 451ms/step - loss: 1.1368 - acc: 0.4868 - val_loss: 1.1697 - val_acc: 0.4840\n",
      "Epoch 25/50\n",
      "185/185 [==============================] - 86s 463ms/step - loss: 1.1207 - acc: 0.4959 - val_loss: 1.1431 - val_acc: 0.4987\n",
      "Epoch 26/50\n",
      "185/185 [==============================] - 84s 453ms/step - loss: 1.1233 - acc: 0.5105 - val_loss: 1.1591 - val_acc: 0.5240\n",
      "Epoch 27/50\n",
      "185/185 [==============================] - 83s 447ms/step - loss: 1.1165 - acc: 0.5238 - val_loss: 1.1073 - val_acc: 0.5333\n",
      "Epoch 28/50\n",
      "185/185 [==============================] - 85s 461ms/step - loss: 1.0912 - acc: 0.5312 - val_loss: 1.0967 - val_acc: 0.5253\n",
      "Epoch 29/50\n",
      "185/185 [==============================] - 91s 494ms/step - loss: 1.0861 - acc: 0.5407 - val_loss: 1.1130 - val_acc: 0.5240\n",
      "Epoch 30/50\n",
      "185/185 [==============================] - 91s 494ms/step - loss: 1.0947 - acc: 0.5333 - val_loss: 1.2453 - val_acc: 0.4813\n",
      "Epoch 31/50\n",
      "185/185 [==============================] - 92s 497ms/step - loss: 1.1242 - acc: 0.5136 - val_loss: 1.0989 - val_acc: 0.5240\n",
      "Epoch 32/50\n",
      "185/185 [==============================] - 72s 391ms/step - loss: 1.0696 - acc: 0.5448 - val_loss: 1.1105 - val_acc: 0.5067\n",
      "Epoch 33/50\n",
      "185/185 [==============================] - 38s 204ms/step - loss: 1.0641 - acc: 0.5441 - val_loss: 1.1108 - val_acc: 0.5320\n",
      "Epoch 34/50\n",
      "185/185 [==============================] - 36s 197ms/step - loss: 1.1061 - acc: 0.5251 - val_loss: 1.0550 - val_acc: 0.5400\n",
      "Epoch 35/50\n",
      "185/185 [==============================] - 36s 195ms/step - loss: 1.0519 - acc: 0.5485 - val_loss: 1.0559 - val_acc: 0.5600\n",
      "Epoch 36/50\n",
      "185/185 [==============================] - 36s 193ms/step - loss: 1.0497 - acc: 0.5506 - val_loss: 1.0001 - val_acc: 0.5667\n",
      "Epoch 37/50\n",
      "185/185 [==============================] - 36s 196ms/step - loss: 1.0163 - acc: 0.5618 - val_loss: 1.0021 - val_acc: 0.5680\n",
      "Epoch 38/50\n",
      "185/185 [==============================] - 36s 195ms/step - loss: 1.0126 - acc: 0.5686 - val_loss: 1.0598 - val_acc: 0.5387\n",
      "Epoch 39/50\n",
      "185/185 [==============================] - 36s 196ms/step - loss: 1.0121 - acc: 0.5621 - val_loss: 1.0471 - val_acc: 0.5627\n",
      "Epoch 40/50\n",
      "185/185 [==============================] - 37s 199ms/step - loss: 1.0048 - acc: 0.5726 - val_loss: 1.0188 - val_acc: 0.5467\n",
      "Epoch 41/50\n",
      "185/185 [==============================] - 36s 193ms/step - loss: 0.9969 - acc: 0.5771 - val_loss: 1.0510 - val_acc: 0.5587\n",
      "Epoch 42/50\n",
      "185/185 [==============================] - 36s 196ms/step - loss: 0.9935 - acc: 0.5760 - val_loss: 1.0088 - val_acc: 0.5800\n",
      "Epoch 43/50\n",
      "185/185 [==============================] - 36s 197ms/step - loss: 0.9806 - acc: 0.5784 - val_loss: 1.0226 - val_acc: 0.5680\n",
      "Epoch 44/50\n",
      "185/185 [==============================] - 36s 197ms/step - loss: 0.9686 - acc: 0.5920 - val_loss: 1.0061 - val_acc: 0.5707\n",
      "Epoch 45/50\n",
      "185/185 [==============================] - 36s 194ms/step - loss: 0.9895 - acc: 0.5808 - val_loss: 0.9885 - val_acc: 0.5773\n",
      "Epoch 46/50\n",
      "185/185 [==============================] - 36s 195ms/step - loss: 0.9659 - acc: 0.5910 - val_loss: 0.9956 - val_acc: 0.5787\n",
      "Epoch 47/50\n",
      "185/185 [==============================] - 36s 195ms/step - loss: 0.9638 - acc: 0.5811 - val_loss: 0.9762 - val_acc: 0.5680\n",
      "Epoch 48/50\n",
      "185/185 [==============================] - 36s 194ms/step - loss: 0.9606 - acc: 0.5866 - val_loss: 0.9746 - val_acc: 0.5880\n",
      "Epoch 49/50\n",
      "185/185 [==============================] - 36s 196ms/step - loss: 0.9614 - acc: 0.5923 - val_loss: 0.9840 - val_acc: 0.5840\n",
      "Epoch 50/50\n",
      "185/185 [==============================] - 36s 193ms/step - loss: 0.9509 - acc: 0.5903 - val_loss: 0.9656 - val_acc: 0.5773\n"
     ]
    }
   ],
   "source": [
    "rnnhistory = model.fit(x_trainrnn, y_train, epochs=50, batch_size=16, validation_data=(x_testrnn, y_test), shuffle=False)"
   ]
  },
  {
   "cell_type": "code",
   "execution_count": 23,
   "metadata": {},
   "outputs": [
    {
     "data": {
      "image/png": "[encoded data removed]",
      "text/plain": [
       "<Figure size 432x288 with 1 Axes>"
      ]
     },
     "metadata": {
      "needs_background": "light"
     },
     "output_type": "display_data"
    }
   ],
   "source": [
    "plt.plot(rnnhistory.history['acc'])\n",
    "plt.plot(rnnhistory.history['val_acc'])\n",
    "plt.title('model accuracy')\n",
    "plt.ylabel('accuracy')\n",
    "plt.xlabel('epoch')\n",
    "plt.legend(['train', 'test'], loc='upper left')\n",
    "plt.show()"
   ]
  },
  {
   "cell_type": "code",
   "execution_count": null,
   "metadata": {},
   "outputs": [],
   "source": []
  }
 ],
 "metadata": {
  "kernelspec": {
   "display_name": "Python 3",
   "language": "python",
   "name": "python3"
  },
  "language_info": {
   "codemirror_mode": {
    "name": "ipython",
    "version": 3
   },
   "file_extension": ".py",
   "mimetype": "text/x-python",
   "name": "python",
   "nbconvert_exporter": "python",
   "pygments_lexer": "ipython3",
   "version": "3.8.5"
  }
 },
 "nbformat": 4,
 "nbformat_minor": 4
}
