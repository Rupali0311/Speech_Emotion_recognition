{
 "cells": [
  {
   "cell_type": "markdown",
   "metadata": {},
   "source": [
    "# Importing the Libraries"
   ]
  },
  {
   "cell_type": "code",
   "execution_count": 1,
   "metadata": {},
   "outputs": [],
   "source": [
    "import librosa\n",
    "import librosa.display\n",
    "import numpy as np\n",
    "import matplotlib.pyplot as plt\n",
    "from sklearn.ensemble import RandomForestClassifier\n",
    "from sklearn.metrics import confusion_matrix, accuracy_score, classification_report\n",
    "from sklearn.utils import shuffle\n",
    "from keras.utils import np_utils\n",
    "from sklearn.preprocessing import LabelEncoder\n",
    "import os\n",
    "import pandas as pd\n",
    "import librosa\n",
    "import glob \n",
    "from sklearn.metrics import accuracy_score"
   ]
  },
  {
   "cell_type": "markdown",
   "metadata": {},
   "source": [
    "# Loading the dataset"
   ]
  },
  {
   "cell_type": "code",
   "execution_count": 2,
   "metadata": {},
   "outputs": [],
   "source": [
    "rav_sav= os.listdir('Dataset1/')\n",
    "tess= os.listdir('Dataset2/')"
   ]
  },
  {
   "cell_type": "markdown",
   "metadata": {},
   "source": [
    "# Printing size of dataset"
   ]
  },
  {
   "cell_type": "code",
   "execution_count": 3,
   "metadata": {},
   "outputs": [
    {
     "name": "stdout",
     "output_type": "stream",
     "text": [
      "1920\n",
      "2800\n"
     ]
    }
   ],
   "source": [
    "print(len(rav_sav))\n",
    "print(len(tess))"
   ]
  },
  {
   "cell_type": "markdown",
   "metadata": {},
   "source": [
    "# Mapping the data of RAVDESS and SAVEE"
   ]
  },
  {
   "cell_type": "code",
   "execution_count": 4,
   "metadata": {},
   "outputs": [],
   "source": [
    "emotions=[]\n",
    "for file in rav_sav:\n",
    "    if file[6:-16]=='01':\n",
    "        emotions.append('neutral')\n",
    "    elif file[6:-16]=='03' and int(file[18:-4])%2==0:\n",
    "        emotions.append('happy')\n",
    "    elif file[6:-16]=='03' and int(file[18:-4])%2==1:\n",
    "        emotions.append('happy')\n",
    "    elif file[6:-16]=='04' and int(file[18:-4])%2==0:\n",
    "        emotions.append('sad')\n",
    "    elif file[6:-16]=='04' and int(file[18:-4])%2==1:\n",
    "        emotions.append('sad')\n",
    "    elif file[6:-16]=='05' and int(file[18:-4])%2==0:\n",
    "        emotions.append('angry')\n",
    "    elif file[6:-16]=='05' and int(file[18:-4])%2==1:\n",
    "        emotions.append('angry')\n",
    "    elif file[6:-16]=='06' and int(file[18:-4])%2==0:\n",
    "        emotions.append('fearful')\n",
    "    elif file[6:-16]=='06' and int(file[18:-4])%2==1:\n",
    "        emotions.append('fearful')\n",
    "    elif file[6:-16]=='07':\n",
    "        emotions.append('disgust')\n",
    "    elif file[:1]=='a':\n",
    "        emotions.append('angry')\n",
    "    elif file[:1]=='f':\n",
    "        emotions.append('fearful')\n",
    "    elif file[:1]=='h':\n",
    "        emotions.append('happy')\n",
    "    elif file[:2]=='sa':\n",
    "        emotions.append('sad')"
   ]
  },
  {
   "cell_type": "markdown",
   "metadata": {},
   "source": [
    "# Mapping the data of TESS"
   ]
  },
  {
   "cell_type": "code",
   "execution_count": 5,
   "metadata": {},
   "outputs": [],
   "source": [
    "for file in tess:\n",
    "    if file[-11:-4]=='neutral':\n",
    "        emotions.append('neutral')\n",
    "    elif file[-9:-4]=='angry':\n",
    "        emotions.append('angry')\n",
    "    elif file[-11:-4]=='disgust':\n",
    "        emotions.append('disgust')\n",
    "    elif file[-9:-4]=='happy':\n",
    "        emotions.append('happy')\n",
    "    elif file[-7:-4]=='sad':\n",
    "        emotions.append('sad')\n",
    "    elif file[-8:-4]=='fear':\n",
    "        emotions.append('fearful')"
   ]
  },
  {
   "cell_type": "markdown",
   "metadata": {},
   "source": [
    "# Labelling the data"
   ]
  },
  {
   "cell_type": "code",
   "execution_count": 6,
   "metadata": {},
   "outputs": [],
   "source": [
    "labels = pd.DataFrame(emotions)"
   ]
  },
  {
   "cell_type": "markdown",
   "metadata": {},
   "source": [
    "# Feature Extraction of RAVDESS and SAVEE dataset using mfcc"
   ]
  },
  {
   "cell_type": "code",
   "execution_count": 7,
   "metadata": {},
   "outputs": [],
   "source": [
    "df = pd.DataFrame(columns=['feature'])\n",
    "count=0\n",
    "for i,y in enumerate(rav_sav):\n",
    "    if rav_sav[i][6:-16]!='02' and rav_sav[i][6:-16]!='08' and rav_sav[i][:2]!='su' and rav_sav[i][:1]!='n' and rav_sav[i][:1]!='d':\n",
    "        X, sample_rate = librosa.load('Dataset1/'+y, res_type='kaiser_fast',duration=2.5,sr=22050,offset=0)\n",
    "        sample_rate = np.array(sample_rate)\n",
    "        mfccs = np.mean(librosa.feature.mfcc(y=X, sr=sample_rate, n_mfcc=13), axis=0)\n",
    "        feature = mfccs\n",
    "        df.loc[count] = [feature]\n",
    "        count=count+1  "
   ]
  },
  {
   "cell_type": "markdown",
   "metadata": {},
   "source": [
    "# Feature extraction of TESS dataset using mfcc"
   ]
  },
  {
   "cell_type": "code",
   "execution_count": 8,
   "metadata": {},
   "outputs": [],
   "source": [
    "for i,y in enumerate(tess):\n",
    "     if tess[i][-6:-4]!='ps':\n",
    "        X, sample_rate = librosa.load('Dataset2/'+y, res_type='kaiser_fast',duration=2.5,sr=22050*2,offset=0)\n",
    "        sample_rate = np.array(sample_rate)\n",
    "        mfccs = np.mean(librosa.feature.mfcc(y=X,  sr=sample_rate,  n_mfcc=13), axis=0)\n",
    "        feature = mfccs\n",
    "        df.loc[count] = [feature]\n",
    "        count=count+1 "
   ]
  },
  {
   "cell_type": "code",
   "execution_count": 9,
   "metadata": {},
   "outputs": [
    {
     "name": "stdout",
     "output_type": "stream",
     "text": [
      "                                                feature\n",
      "0     [-65.946724, -65.946724, -65.946724, -65.94672...\n",
      "1     [-63.72445, -63.72445, -63.72445, -63.72445, -...\n",
      "2     [-59.59301, -59.59301, -59.59301, -59.59301, -...\n",
      "3     [-66.73365, -66.73365, -66.73365, -66.73365, -...\n",
      "4     [-61.566444, -57.94428, -56.239346, -58.175125...\n",
      "...                                                 ...\n",
      "3691  [-43.600605, -43.108433, -42.603493, -43.46729...\n",
      "3692  [-31.2706, -23.65622, -21.566856, -22.070164, ...\n",
      "3693  [-32.686943, -30.507328, -27.698042, -31.79878...\n",
      "3694  [-41.914738, -40.3994, -39.37127, -39.626366, ...\n",
      "3695  [-33.994755, -35.7186, -36.789467, -34.117706,...\n",
      "\n",
      "[3696 rows x 1 columns]\n"
     ]
    }
   ],
   "source": [
    "print(df)"
   ]
  },
  {
   "cell_type": "markdown",
   "metadata": {},
   "source": [
    "# Splitting into train and test data"
   ]
  },
  {
   "cell_type": "code",
   "execution_count": 10,
   "metadata": {},
   "outputs": [],
   "source": [
    "tempdf = pd.DataFrame(df['feature'].values.tolist())\n",
    "df_new = pd.concat([tempdf,labels], axis=1)"
   ]
  },
  {
   "cell_type": "code",
   "execution_count": 11,
   "metadata": {},
   "outputs": [],
   "source": [
    "ren_df = df_new.rename(index=str, columns={\"0\": \"label\"})\n",
    "ren_df = shuffle(df_new)\n",
    "ren_df = ren_df.fillna(0)\n",
    "final_df = np.random.rand(len(ren_df)) < 0.8"
   ]
  },
  {
   "cell_type": "code",
   "execution_count": 12,
   "metadata": {},
   "outputs": [
    {
     "name": "stdout",
     "output_type": "stream",
     "text": [
      "2956\n",
      "740\n"
     ]
    }
   ],
   "source": [
    "train = ren_df[final_df]\n",
    "test = ren_df[~final_df]\n",
    "print(len(train))\n",
    "print(len(test))"
   ]
  },
  {
   "cell_type": "code",
   "execution_count": 13,
   "metadata": {},
   "outputs": [
    {
     "name": "stdout",
     "output_type": "stream",
     "text": [
      "            0          1          2          3          4          5    \\\n",
      "0    -65.946724 -65.946724 -65.946724 -65.946724 -65.946724 -65.946724   \n",
      "1    -63.724449 -63.724449 -63.724449 -63.724449 -63.724449 -63.724449   \n",
      "2    -59.593010 -59.593010 -59.593010 -59.593010 -59.593010 -59.593010   \n",
      "3    -66.733650 -66.733650 -66.733650 -66.733650 -66.733650 -66.733650   \n",
      "4    -61.566444 -57.944279 -56.239346 -58.175125 -58.332890 -60.323990   \n",
      "...         ...        ...        ...        ...        ...        ...   \n",
      "3691 -43.600605 -43.108433 -42.603493 -43.467293 -41.499535 -41.084091   \n",
      "3692 -31.270599 -23.656219 -21.566856 -22.070164 -24.841099 -28.609322   \n",
      "3693 -32.686943 -30.507328 -27.698042 -31.798786 -33.790195 -32.447849   \n",
      "3694 -41.914738 -40.399399 -39.371269 -39.626366 -35.696751 -28.868685   \n",
      "3695 -33.994755 -35.718601 -36.789467 -34.117706 -30.381868 -28.359896   \n",
      "\n",
      "            6          7          8          9    ...        206        207  \\\n",
      "0    -65.946724 -65.752853 -65.946724 -65.946724  ...        NaN        NaN   \n",
      "1    -63.724449 -63.724449 -63.724449 -63.724449  ...        NaN        NaN   \n",
      "2    -59.593010 -59.593010 -59.593010 -59.593010  ...        NaN        NaN   \n",
      "3    -66.733650 -66.733650 -66.733650 -66.733650  ...        NaN        NaN   \n",
      "4    -61.112751 -58.362244 -58.234436 -59.695816  ...        NaN        NaN   \n",
      "...         ...        ...        ...        ...  ...        ...        ...   \n",
      "3691 -38.763359 -37.168015 -38.470959 -41.190334  ... -30.920593 -32.094967   \n",
      "3692 -31.833010 -33.966671 -35.018528 -34.283588  ...        NaN        NaN   \n",
      "3693 -32.784134 -32.587418 -32.316013 -29.904999  ...        NaN        NaN   \n",
      "3694 -27.069733 -25.934561 -26.704355 -28.264874  ...        NaN        NaN   \n",
      "3695 -28.562948 -28.232851 -28.796274 -32.348175  ...        NaN        NaN   \n",
      "\n",
      "            208        209        210        211        212        213  \\\n",
      "0           NaN        NaN        NaN        NaN        NaN        NaN   \n",
      "1           NaN        NaN        NaN        NaN        NaN        NaN   \n",
      "2           NaN        NaN        NaN        NaN        NaN        NaN   \n",
      "3           NaN        NaN        NaN        NaN        NaN        NaN   \n",
      "4           NaN        NaN        NaN        NaN        NaN        NaN   \n",
      "...         ...        ...        ...        ...        ...        ...   \n",
      "3691 -34.578396 -36.762932 -38.023891 -35.574318 -34.405258 -38.151634   \n",
      "3692        NaN        NaN        NaN        NaN        NaN        NaN   \n",
      "3693        NaN        NaN        NaN        NaN        NaN        NaN   \n",
      "3694        NaN        NaN        NaN        NaN        NaN        NaN   \n",
      "3695        NaN        NaN        NaN        NaN        NaN        NaN   \n",
      "\n",
      "            214        215  \n",
      "0           NaN        NaN  \n",
      "1           NaN        NaN  \n",
      "2           NaN        NaN  \n",
      "3           NaN        NaN  \n",
      "4           NaN        NaN  \n",
      "...         ...        ...  \n",
      "3691 -38.480564 -37.453854  \n",
      "3692        NaN        NaN  \n",
      "3693        NaN        NaN  \n",
      "3694        NaN        NaN  \n",
      "3695        NaN        NaN  \n",
      "\n",
      "[3696 rows x 216 columns]\n"
     ]
    }
   ],
   "source": [
    "print(tempdf)"
   ]
  },
  {
   "cell_type": "code",
   "execution_count": 14,
   "metadata": {},
   "outputs": [],
   "source": [
    "train_set = train.iloc[:, :-1]\n",
    "train_label = train.iloc[:, -1:]\n",
    "test_set = test.iloc[:, :-1]\n",
    "test_label = test.iloc[:, -1:]"
   ]
  },
  {
   "cell_type": "markdown",
   "metadata": {},
   "source": [
    "# Getting train and test data"
   ]
  },
  {
   "cell_type": "code",
   "execution_count": 15,
   "metadata": {},
   "outputs": [
    {
     "name": "stderr",
     "output_type": "stream",
     "text": [
      "C:\\ProgramData\\Anaconda3\\lib\\site-packages\\sklearn\\utils\\validation.py:72: DataConversionWarning: A column-vector y was passed when a 1d array was expected. Please change the shape of y to (n_samples, ), for example using ravel().\n",
      "  return f(**kwargs)\n"
     ]
    }
   ],
   "source": [
    "X_train = np.array(train_set)\n",
    "y_train = np.array(train_label)\n",
    "X_test = np.array(test_set)\n",
    "y_test = np.array(test_label)\n",
    "\n",
    "lb = LabelEncoder()\n",
    "y_train = np_utils.to_categorical(lb.fit_transform(y_train))\n",
    "y_test = np_utils.to_categorical(lb.fit_transform(y_test))"
   ]
  },
  {
   "cell_type": "code",
   "execution_count": 16,
   "metadata": {},
   "outputs": [
    {
     "name": "stdout",
     "output_type": "stream",
     "text": [
      "(2956, 216)\n",
      "(2956, 6)\n",
      "(740, 216)\n",
      "(740, 6)\n"
     ]
    }
   ],
   "source": [
    "print(X_train.shape)\n",
    "print(y_train.shape)\n",
    "print(X_test.shape)\n",
    "print(y_test.shape)"
   ]
  },
  {
   "cell_type": "code",
   "execution_count": 17,
   "metadata": {},
   "outputs": [
    {
     "name": "stdout",
     "output_type": "stream",
     "text": [
      "[[0. 0. 0. 0. 0. 1.]\n",
      " [1. 0. 0. 0. 0. 0.]\n",
      " [0. 0. 0. 1. 0. 0.]\n",
      " ...\n",
      " [0. 0. 0. 0. 0. 1.]\n",
      " [0. 0. 0. 0. 0. 1.]\n",
      " [1. 0. 0. 0. 0. 0.]]\n"
     ]
    }
   ],
   "source": [
    "print(y_test)"
   ]
  },
  {
   "cell_type": "markdown",
   "metadata": {},
   "source": [
    "# Changing the dimensions for RNN model"
   ]
  },
  {
   "cell_type": "code",
   "execution_count": 26,
   "metadata": {},
   "outputs": [
    {
     "name": "stdout",
     "output_type": "stream",
     "text": [
      "(2956, 216, 1)\n",
      "(740, 216, 1)\n",
      "(2956, 6)\n",
      "(740, 6)\n"
     ]
    }
   ],
   "source": [
    "x_traincnn =np.expand_dims(X_train, axis=2)\n",
    "x_testcnn= np.expand_dims(X_test, axis=2)\n",
    "print(x_traincnn.shape)\n",
    "print(x_testcnn.shape)\n",
    "print(y_train.shape)\n",
    "print(y_test.shape)"
   ]
  },
  {
   "cell_type": "markdown",
   "metadata": {},
   "source": [
    "# Training the model using Recurrent neural network"
   ]
  },
  {
   "cell_type": "code",
   "execution_count": 31,
   "metadata": {},
   "outputs": [],
   "source": [
    "import tensorflow as tf\n",
    "import keras\n",
    "from keras.layers import Conv1D, MaxPooling1D\n",
    "from keras.layers import Input, Flatten, Dropout, Activation, Dense\n",
    "from keras.models import Sequential\n"
   ]
  },
  {
   "cell_type": "code",
   "execution_count": 35,
   "metadata": {},
   "outputs": [
    {
     "name": "stdout",
     "output_type": "stream",
     "text": [
      "Model: \"sequential_4\"\n",
      "_________________________________________________________________\n",
      "Layer (type)                 Output Shape              Param #   \n",
      "=================================================================\n",
      "conv1d_14 (Conv1D)           (None, 216, 256)          1536      \n",
      "_________________________________________________________________\n",
      "activation_17 (Activation)   (None, 216, 256)          0         \n",
      "_________________________________________________________________\n",
      "conv1d_15 (Conv1D)           (None, 216, 128)          163968    \n",
      "_________________________________________________________________\n",
      "activation_18 (Activation)   (None, 216, 128)          0         \n",
      "_________________________________________________________________\n",
      "dropout_4 (Dropout)          (None, 216, 128)          0         \n",
      "_________________________________________________________________\n",
      "max_pooling1d_6 (MaxPooling1 (None, 27, 128)           0         \n",
      "_________________________________________________________________\n",
      "conv1d_16 (Conv1D)           (None, 27, 128)           82048     \n",
      "_________________________________________________________________\n",
      "activation_19 (Activation)   (None, 27, 128)           0         \n",
      "_________________________________________________________________\n",
      "max_pooling1d_7 (MaxPooling1 (None, 3, 128)            0         \n",
      "_________________________________________________________________\n",
      "conv1d_17 (Conv1D)           (None, 3, 128)            82048     \n",
      "_________________________________________________________________\n",
      "activation_20 (Activation)   (None, 3, 128)            0         \n",
      "_________________________________________________________________\n",
      "flatten_3 (Flatten)          (None, 384)               0         \n",
      "_________________________________________________________________\n",
      "dense_3 (Dense)              (None, 6)                 2310      \n",
      "_________________________________________________________________\n",
      "activation_21 (Activation)   (None, 6)                 0         \n",
      "=================================================================\n",
      "Total params: 331,910\n",
      "Trainable params: 331,910\n",
      "Non-trainable params: 0\n",
      "_________________________________________________________________\n"
     ]
    }
   ],
   "source": [
    "model = Sequential()\n",
    "\n",
    "model.add(Conv1D(256, 5,padding='same',\n",
    "                 input_shape=(216,1)))\n",
    "model.add(Activation('relu'))\n",
    "model.add(Conv1D(128, 5,padding='same'))\n",
    "model.add(Activation('relu'))\n",
    "model.add(Dropout(0.6))\n",
    "model.add(MaxPooling1D(pool_size=(8)))\n",
    "model.add(Conv1D(128, 5,padding='same',))\n",
    "model.add(Activation('relu'))\n",
    "model.add(MaxPooling1D(pool_size=(8)))\n",
    "model.add(Conv1D(128, 5,padding='same',))\n",
    "model.add(Activation('relu'))\n",
    "model.add(Flatten())\n",
    "model.add(Dense(6))\n",
    "model.add(Activation('softmax'))\n",
    "opt =tf.keras.optimizers.RMSprop(learning_rate=0.00001, decay=1e-6)\n",
    "model.summary()"
   ]
  },
  {
   "cell_type": "code",
   "execution_count": 36,
   "metadata": {},
   "outputs": [],
   "source": [
    "model.compile(optimizer='adam',loss='categorical_crossentropy',metrics=['acc'])"
   ]
  },
  {
   "cell_type": "code",
   "execution_count": 37,
   "metadata": {},
   "outputs": [
    {
     "name": "stdout",
     "output_type": "stream",
     "text": [
      "Epoch 1/50\n",
      "185/185 [==============================] - 22s 100ms/step - loss: 1.6524 - acc: 0.3187 - val_loss: 1.4221 - val_acc: 0.3757\n",
      "Epoch 2/50\n",
      "185/185 [==============================] - 19s 102ms/step - loss: 1.3960 - acc: 0.3863 - val_loss: 1.3787 - val_acc: 0.4068\n",
      "Epoch 3/50\n",
      "185/185 [==============================] - 18s 98ms/step - loss: 1.3225 - acc: 0.4185 - val_loss: 1.3419 - val_acc: 0.4311\n",
      "Epoch 4/50\n",
      "185/185 [==============================] - 16s 88ms/step - loss: 1.2477 - acc: 0.4499 - val_loss: 1.2700 - val_acc: 0.4459\n",
      "Epoch 5/50\n",
      "185/185 [==============================] - 19s 105ms/step - loss: 1.1969 - acc: 0.4814 - val_loss: 1.2042 - val_acc: 0.5311\n",
      "Epoch 6/50\n",
      "185/185 [==============================] - 21s 115ms/step - loss: 1.1390 - acc: 0.5024 - val_loss: 1.1509 - val_acc: 0.5311\n",
      "Epoch 7/50\n",
      "185/185 [==============================] - 18s 98ms/step - loss: 1.0921 - acc: 0.5372 - val_loss: 1.1353 - val_acc: 0.5878\n",
      "Epoch 8/50\n",
      "185/185 [==============================] - 16s 86ms/step - loss: 1.0282 - acc: 0.5666 - val_loss: 1.0558 - val_acc: 0.6081\n",
      "Epoch 9/50\n",
      "185/185 [==============================] - 18s 97ms/step - loss: 0.9748 - acc: 0.5978 - val_loss: 1.0199 - val_acc: 0.6027\n",
      "Epoch 10/50\n",
      "185/185 [==============================] - 18s 96ms/step - loss: 0.9476 - acc: 0.6096 - val_loss: 0.9922 - val_acc: 0.6311\n",
      "Epoch 11/50\n",
      "185/185 [==============================] - 16s 88ms/step - loss: 0.8997 - acc: 0.6255 - val_loss: 0.9948 - val_acc: 0.6432\n",
      "Epoch 12/50\n",
      "185/185 [==============================] - 18s 95ms/step - loss: 0.8463 - acc: 0.6546 - val_loss: 0.9340 - val_acc: 0.6568\n",
      "Epoch 13/50\n",
      "185/185 [==============================] - 18s 98ms/step - loss: 0.8132 - acc: 0.6647 - val_loss: 0.8916 - val_acc: 0.6716\n",
      "Epoch 14/50\n",
      "185/185 [==============================] - 16s 88ms/step - loss: 0.8154 - acc: 0.6651 - val_loss: 0.8918 - val_acc: 0.6811\n",
      "Epoch 15/50\n",
      "185/185 [==============================] - 17s 90ms/step - loss: 0.7674 - acc: 0.6867 - val_loss: 0.8631 - val_acc: 0.6811\n",
      "Epoch 16/50\n",
      "185/185 [==============================] - 18s 98ms/step - loss: 0.7680 - acc: 0.6874 - val_loss: 0.8588 - val_acc: 0.6838\n",
      "Epoch 17/50\n",
      "185/185 [==============================] - 17s 91ms/step - loss: 0.7398 - acc: 0.6871 - val_loss: 0.8007 - val_acc: 0.7041\n",
      "Epoch 18/50\n",
      "185/185 [==============================] - 17s 90ms/step - loss: 0.7174 - acc: 0.7043 - val_loss: 0.8187 - val_acc: 0.6892\n",
      "Epoch 19/50\n",
      "185/185 [==============================] - 18s 96ms/step - loss: 0.7055 - acc: 0.6986 - val_loss: 0.8041 - val_acc: 0.6932\n",
      "Epoch 20/50\n",
      "185/185 [==============================] - 18s 98ms/step - loss: 0.6875 - acc: 0.7152 - val_loss: 0.8821 - val_acc: 0.6676\n",
      "Epoch 21/50\n",
      "185/185 [==============================] - 17s 91ms/step - loss: 0.6901 - acc: 0.7118 - val_loss: 0.7581 - val_acc: 0.7203\n",
      "Epoch 22/50\n",
      "185/185 [==============================] - 16s 89ms/step - loss: 0.6528 - acc: 0.7283 - val_loss: 0.7417 - val_acc: 0.7122\n",
      "Epoch 23/50\n",
      "185/185 [==============================] - 18s 99ms/step - loss: 0.6511 - acc: 0.7327 - val_loss: 0.7392 - val_acc: 0.7054\n",
      "Epoch 24/50\n",
      "185/185 [==============================] - 17s 95ms/step - loss: 0.6487 - acc: 0.7300 - val_loss: 0.7578 - val_acc: 0.7095\n",
      "Epoch 25/50\n",
      "185/185 [==============================] - 16s 88ms/step - loss: 0.6455 - acc: 0.7415 - val_loss: 0.7747 - val_acc: 0.6851\n",
      "Epoch 26/50\n",
      "185/185 [==============================] - 17s 94ms/step - loss: 0.6330 - acc: 0.7388 - val_loss: 0.7629 - val_acc: 0.6892\n",
      "Epoch 27/50\n",
      "185/185 [==============================] - 18s 97ms/step - loss: 0.6267 - acc: 0.7361 - val_loss: 0.7619 - val_acc: 0.6865\n",
      "Epoch 28/50\n",
      "185/185 [==============================] - 17s 92ms/step - loss: 0.6377 - acc: 0.7385 - val_loss: 0.7029 - val_acc: 0.7243\n",
      "Epoch 29/50\n",
      "185/185 [==============================] - 16s 88ms/step - loss: 0.5986 - acc: 0.7527 - val_loss: 0.7468 - val_acc: 0.6838\n",
      "Epoch 30/50\n",
      "185/185 [==============================] - 19s 100ms/step - loss: 0.6150 - acc: 0.7520 - val_loss: 0.7118 - val_acc: 0.7068\n",
      "Epoch 31/50\n",
      "185/185 [==============================] - 17s 94ms/step - loss: 0.6032 - acc: 0.7483 - val_loss: 0.7171 - val_acc: 0.6986\n",
      "Epoch 32/50\n",
      "185/185 [==============================] - 16s 87ms/step - loss: 0.6075 - acc: 0.7497 - val_loss: 0.7428 - val_acc: 0.7095\n",
      "Epoch 33/50\n",
      "185/185 [==============================] - 17s 93ms/step - loss: 0.5867 - acc: 0.7652 - val_loss: 0.7013 - val_acc: 0.7270\n",
      "Epoch 34/50\n",
      "185/185 [==============================] - 18s 98ms/step - loss: 0.5726 - acc: 0.7683 - val_loss: 0.6779 - val_acc: 0.7257\n",
      "Epoch 35/50\n",
      "185/185 [==============================] - 17s 90ms/step - loss: 0.5850 - acc: 0.7662 - val_loss: 0.7278 - val_acc: 0.7041\n",
      "Epoch 36/50\n",
      "185/185 [==============================] - 16s 85ms/step - loss: 0.5732 - acc: 0.7659 - val_loss: 0.6801 - val_acc: 0.7243\n",
      "Epoch 37/50\n",
      "185/185 [==============================] - 18s 98ms/step - loss: 0.5474 - acc: 0.7679 - val_loss: 0.6925 - val_acc: 0.7095\n",
      "Epoch 38/50\n",
      "185/185 [==============================] - 17s 94ms/step - loss: 0.5285 - acc: 0.7869 - val_loss: 0.6960 - val_acc: 0.7054\n",
      "Epoch 39/50\n",
      "185/185 [==============================] - 16s 89ms/step - loss: 0.5610 - acc: 0.7679 - val_loss: 0.6864 - val_acc: 0.7189\n",
      "Epoch 40/50\n",
      "185/185 [==============================] - 17s 93ms/step - loss: 0.5265 - acc: 0.7835 - val_loss: 0.6742 - val_acc: 0.7230\n",
      "Epoch 41/50\n",
      "185/185 [==============================] - 18s 97ms/step - loss: 0.5399 - acc: 0.7832 - val_loss: 0.6703 - val_acc: 0.7243\n",
      "Epoch 42/50\n",
      "185/185 [==============================] - 17s 92ms/step - loss: 0.5374 - acc: 0.7865 - val_loss: 0.6791 - val_acc: 0.7149\n",
      "Epoch 43/50\n",
      "185/185 [==============================] - 16s 86ms/step - loss: 0.5606 - acc: 0.7828 - val_loss: 0.7326 - val_acc: 0.6905\n",
      "Epoch 44/50\n",
      "185/185 [==============================] - 18s 95ms/step - loss: 0.5227 - acc: 0.7815 - val_loss: 0.6710 - val_acc: 0.7095\n",
      "Epoch 45/50\n",
      "185/185 [==============================] - 17s 94ms/step - loss: 0.5120 - acc: 0.7879 - val_loss: 0.6434 - val_acc: 0.7311\n",
      "Epoch 46/50\n",
      "185/185 [==============================] - 16s 88ms/step - loss: 0.5010 - acc: 0.7947 - val_loss: 0.6717 - val_acc: 0.7189\n",
      "Epoch 47/50\n",
      "185/185 [==============================] - 16s 89ms/step - loss: 0.5023 - acc: 0.7943 - val_loss: 0.6837 - val_acc: 0.7176\n",
      "Epoch 48/50\n",
      "185/185 [==============================] - 19s 101ms/step - loss: 0.4947 - acc: 0.7957 - val_loss: 0.6552 - val_acc: 0.7351\n",
      "Epoch 49/50\n",
      "185/185 [==============================] - 17s 90ms/step - loss: 0.5111 - acc: 0.7896 - val_loss: 0.6805 - val_acc: 0.7230\n",
      "Epoch 50/50\n",
      "185/185 [==============================] - 16s 88ms/step - loss: 0.4867 - acc: 0.7997 - val_loss: 0.6989 - val_acc: 0.7189\n"
     ]
    }
   ],
   "source": [
    "cnnhistory = model.fit(x_traincnn, y_train, epochs=50, batch_size=16, validation_data=(x_testcnn, y_test), shuffle=False)"
   ]
  },
  {
   "cell_type": "code",
   "execution_count": 38,
   "metadata": {},
   "outputs": [
    {
     "data": {
      "image/png": "[encoded data removed]",
      "text/plain": [
       "<Figure size 432x288 with 1 Axes>"
      ]
     },
     "metadata": {
      "needs_background": "light"
     },
     "output_type": "display_data"
    }
   ],
   "source": [
    "plt.plot(cnnhistory.history['acc'])\n",
    "plt.plot(cnnhistory.history['val_acc'])\n",
    "plt.title('model accuracy')\n",
    "plt.ylabel('accuracy')\n",
    "plt.xlabel('epoch')\n",
    "plt.legend(['train', 'test'], loc='upper left')\n",
    "plt.show()"
   ]
  },
  {
   "cell_type": "code",
   "execution_count": null,
   "metadata": {},
   "outputs": [],
   "source": []
  }
 ],
 "metadata": {
  "kernelspec": {
   "display_name": "Python 3",
   "language": "python",
   "name": "python3"
  },
  "language_info": {
   "codemirror_mode": {
    "name": "ipython",
    "version": 3
   },
   "file_extension": ".py",
   "mimetype": "text/x-python",
   "name": "python",
   "nbconvert_exporter": "python",
   "pygments_lexer": "ipython3",
   "version": "3.8.5"
  }
 },
 "nbformat": 4,
 "nbformat_minor": 4
}
