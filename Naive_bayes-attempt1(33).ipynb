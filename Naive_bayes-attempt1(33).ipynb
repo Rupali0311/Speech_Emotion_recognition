{
 "cells": [
  {
   "cell_type": "markdown",
   "metadata": {},
   "source": [
    "# Importing the Libraries"
   ]
  },
  {
   "cell_type": "code",
   "execution_count": 1,
   "metadata": {},
   "outputs": [],
   "source": [
    "import librosa\n",
    "import librosa.display\n",
    "import numpy as np\n",
    "import matplotlib.pyplot as plt\n",
    "from sklearn.ensemble import RandomForestClassifier\n",
    "from sklearn.metrics import confusion_matrix, accuracy_score, classification_report\n",
    "from sklearn.utils import shuffle\n",
    "from keras.utils import np_utils\n",
    "from sklearn.preprocessing import LabelEncoder\n",
    "import os\n",
    "import pandas as pd\n",
    "import librosa\n",
    "import glob \n",
    "from sklearn.metrics import accuracy_score\n",
    "from sklearn.svm import SVC"
   ]
  },
  {
   "cell_type": "markdown",
   "metadata": {},
   "source": [
    "# Loading the dataset"
   ]
  },
  {
   "cell_type": "code",
   "execution_count": 2,
   "metadata": {},
   "outputs": [],
   "source": [
    "rav_sav= os.listdir('Dataset1/')\n",
    "tess= os.listdir('Dataset2/')"
   ]
  },
  {
   "cell_type": "markdown",
   "metadata": {},
   "source": [
    "# Printing size of dataset"
   ]
  },
  {
   "cell_type": "code",
   "execution_count": 3,
   "metadata": {},
   "outputs": [
    {
     "name": "stdout",
     "output_type": "stream",
     "text": [
      "1920\n",
      "2800\n"
     ]
    }
   ],
   "source": [
    "print(len(rav_sav))\n",
    "print(len(tess))"
   ]
  },
  {
   "cell_type": "markdown",
   "metadata": {},
   "source": [
    "# Mapping the data of RAVDESS and SAVEE"
   ]
  },
  {
   "cell_type": "code",
   "execution_count": 4,
   "metadata": {},
   "outputs": [],
   "source": [
    "emotions=[]\n",
    "for file in rav_sav:\n",
    "    if file[6:-16]=='01':\n",
    "        emotions.append('neutral')\n",
    "    elif file[6:-16]=='03' and int(file[18:-4])%2==0:\n",
    "        emotions.append('happy')\n",
    "    elif file[6:-16]=='03' and int(file[18:-4])%2==1:\n",
    "        emotions.append('happy')\n",
    "    elif file[6:-16]=='04' and int(file[18:-4])%2==0:\n",
    "        emotions.append('sad')\n",
    "    elif file[6:-16]=='04' and int(file[18:-4])%2==1:\n",
    "        emotions.append('sad')\n",
    "    elif file[6:-16]=='05' and int(file[18:-4])%2==0:\n",
    "        emotions.append('angry')\n",
    "    elif file[6:-16]=='05' and int(file[18:-4])%2==1:\n",
    "        emotions.append('angry')\n",
    "    elif file[6:-16]=='06' and int(file[18:-4])%2==0:\n",
    "        emotions.append('fearful')\n",
    "    elif file[6:-16]=='06' and int(file[18:-4])%2==1:\n",
    "        emotions.append('fearful')\n",
    "    elif file[6:-16]=='07':\n",
    "        emotions.append('disgust')\n",
    "    elif file[:1]=='a':\n",
    "        emotions.append('angry')\n",
    "    elif file[:1]=='f':\n",
    "        emotions.append('fearful')\n",
    "    elif file[:1]=='h':\n",
    "        emotions.append('happy')\n",
    "    elif file[:2]=='sa':\n",
    "        emotions.append('sad')"
   ]
  },
  {
   "cell_type": "markdown",
   "metadata": {},
   "source": [
    "# Mapping the data of TESS"
   ]
  },
  {
   "cell_type": "code",
   "execution_count": 5,
   "metadata": {},
   "outputs": [],
   "source": [
    "for file in tess:\n",
    "    if file[-11:-4]=='neutral':\n",
    "        emotions.append('neutral')\n",
    "    elif file[-9:-4]=='angry':\n",
    "        emotions.append('angry')\n",
    "    elif file[-11:-4]=='disgust':\n",
    "        emotions.append('disgust')\n",
    "    elif file[-9:-4]=='happy':\n",
    "        emotions.append('happy')\n",
    "    elif file[-7:-4]=='sad':\n",
    "        emotions.append('sad')\n",
    "    elif file[-8:-4]=='fear':\n",
    "        emotions.append('fearful')"
   ]
  },
  {
   "cell_type": "markdown",
   "metadata": {},
   "source": [
    "# Labelling the data"
   ]
  },
  {
   "cell_type": "code",
   "execution_count": 6,
   "metadata": {},
   "outputs": [],
   "source": [
    "labels = pd.DataFrame(emotions)"
   ]
  },
  {
   "cell_type": "markdown",
   "metadata": {},
   "source": [
    "# Feature Extraction of RAVDESS and SAVEE dataset using mfcc"
   ]
  },
  {
   "cell_type": "code",
   "execution_count": 7,
   "metadata": {},
   "outputs": [],
   "source": [
    "df = pd.DataFrame(columns=['feature'])\n",
    "count=0\n",
    "for i,y in enumerate(rav_sav):\n",
    "    if rav_sav[i][6:-16]!='02' and rav_sav[i][6:-16]!='08' and rav_sav[i][:2]!='su' and rav_sav[i][:1]!='n' and rav_sav[i][:1]!='d':\n",
    "        X, sample_rate = librosa.load('Dataset1/'+y, res_type='kaiser_fast',duration=2.5,sr=22050,offset=0)\n",
    "        sample_rate = np.array(sample_rate)\n",
    "        mfccs = np.mean(librosa.feature.mfcc(y=X, sr=sample_rate, n_mfcc=13), axis=0)\n",
    "        feature = mfccs\n",
    "        df.loc[count] = [feature]\n",
    "        count=count+1  "
   ]
  },
  {
   "cell_type": "markdown",
   "metadata": {},
   "source": [
    "# Feature extraction of TESS dataset using mfcc"
   ]
  },
  {
   "cell_type": "code",
   "execution_count": 8,
   "metadata": {},
   "outputs": [],
   "source": [
    "for i,y in enumerate(tess):\n",
    "     if tess[i][-6:-4]!='ps':\n",
    "        X, sample_rate = librosa.load('Dataset2/'+y, res_type='kaiser_fast',duration=2.5,sr=22050*2,offset=0)\n",
    "        sample_rate = np.array(sample_rate)\n",
    "        mfccs = np.mean(librosa.feature.mfcc(y=X,  sr=sample_rate,  n_mfcc=13), axis=0)\n",
    "        feature = mfccs\n",
    "        df.loc[count] = [feature]\n",
    "        count=count+1 "
   ]
  },
  {
   "cell_type": "code",
   "execution_count": 9,
   "metadata": {},
   "outputs": [
    {
     "name": "stdout",
     "output_type": "stream",
     "text": [
      "                                                feature\n",
      "0     [-65.946724, -65.946724, -65.946724, -65.94672...\n",
      "1     [-63.72445, -63.72445, -63.72445, -63.72445, -...\n",
      "2     [-59.59301, -59.59301, -59.59301, -59.59301, -...\n",
      "3     [-66.73365, -66.73365, -66.73365, -66.73365, -...\n",
      "4     [-61.566444, -57.94428, -56.239346, -58.175125...\n",
      "...                                                 ...\n",
      "3691  [-43.600605, -43.108433, -42.603493, -43.46729...\n",
      "3692  [-31.2706, -23.65622, -21.566856, -22.070164, ...\n",
      "3693  [-32.686943, -30.507328, -27.698042, -31.79878...\n",
      "3694  [-41.914738, -40.3994, -39.37127, -39.626366, ...\n",
      "3695  [-33.994755, -35.7186, -36.789467, -34.117706,...\n",
      "\n",
      "[3696 rows x 1 columns]\n"
     ]
    }
   ],
   "source": [
    "print(df)"
   ]
  },
  {
   "cell_type": "markdown",
   "metadata": {},
   "source": [
    "# Splitting into train and test data"
   ]
  },
  {
   "cell_type": "code",
   "execution_count": 10,
   "metadata": {},
   "outputs": [],
   "source": [
    "tempdf = pd.DataFrame(df['feature'].values.tolist())\n",
    "df_new = pd.concat([tempdf,labels], axis=1)"
   ]
  },
  {
   "cell_type": "code",
   "execution_count": 11,
   "metadata": {},
   "outputs": [],
   "source": [
    "ren_df = df_new.rename(index=str, columns={\"0\": \"label\"})\n",
    "ren_df = shuffle(df_new)\n",
    "ren_df = ren_df.fillna(0)\n",
    "final_df = np.random.rand(len(ren_df)) < 0.8"
   ]
  },
  {
   "cell_type": "code",
   "execution_count": 12,
   "metadata": {},
   "outputs": [
    {
     "name": "stdout",
     "output_type": "stream",
     "text": [
      "2964\n",
      "732\n"
     ]
    }
   ],
   "source": [
    "train = ren_df[final_df]\n",
    "test = ren_df[~final_df]\n",
    "print(len(train))\n",
    "print(len(test))"
   ]
  },
  {
   "cell_type": "code",
   "execution_count": 13,
   "metadata": {},
   "outputs": [
    {
     "name": "stdout",
     "output_type": "stream",
     "text": [
      "            0          1          2          3          4          5    \\\n",
      "0    -65.946724 -65.946724 -65.946724 -65.946724 -65.946724 -65.946724   \n",
      "1    -63.724449 -63.724449 -63.724449 -63.724449 -63.724449 -63.724449   \n",
      "2    -59.593010 -59.593010 -59.593010 -59.593010 -59.593010 -59.593010   \n",
      "3    -66.733650 -66.733650 -66.733650 -66.733650 -66.733650 -66.733650   \n",
      "4    -61.566444 -57.944279 -56.239346 -58.175125 -58.332890 -60.323990   \n",
      "...         ...        ...        ...        ...        ...        ...   \n",
      "3691 -43.600605 -43.108433 -42.603493 -43.467293 -41.499535 -41.084091   \n",
      "3692 -31.270599 -23.656219 -21.566856 -22.070164 -24.841099 -28.609322   \n",
      "3693 -32.686943 -30.507328 -27.698042 -31.798786 -33.790195 -32.447849   \n",
      "3694 -41.914738 -40.399399 -39.371269 -39.626366 -35.696751 -28.868685   \n",
      "3695 -33.994755 -35.718601 -36.789467 -34.117706 -30.381868 -28.359896   \n",
      "\n",
      "            6          7          8          9    ...        206        207  \\\n",
      "0    -65.946724 -65.752853 -65.946724 -65.946724  ...        NaN        NaN   \n",
      "1    -63.724449 -63.724449 -63.724449 -63.724449  ...        NaN        NaN   \n",
      "2    -59.593010 -59.593010 -59.593010 -59.593010  ...        NaN        NaN   \n",
      "3    -66.733650 -66.733650 -66.733650 -66.733650  ...        NaN        NaN   \n",
      "4    -61.112751 -58.362244 -58.234436 -59.695816  ...        NaN        NaN   \n",
      "...         ...        ...        ...        ...  ...        ...        ...   \n",
      "3691 -38.763359 -37.168015 -38.470959 -41.190334  ... -30.920593 -32.094967   \n",
      "3692 -31.833010 -33.966671 -35.018528 -34.283588  ...        NaN        NaN   \n",
      "3693 -32.784134 -32.587418 -32.316013 -29.904999  ...        NaN        NaN   \n",
      "3694 -27.069733 -25.934561 -26.704355 -28.264874  ...        NaN        NaN   \n",
      "3695 -28.562948 -28.232851 -28.796274 -32.348175  ...        NaN        NaN   \n",
      "\n",
      "            208        209        210        211        212        213  \\\n",
      "0           NaN        NaN        NaN        NaN        NaN        NaN   \n",
      "1           NaN        NaN        NaN        NaN        NaN        NaN   \n",
      "2           NaN        NaN        NaN        NaN        NaN        NaN   \n",
      "3           NaN        NaN        NaN        NaN        NaN        NaN   \n",
      "4           NaN        NaN        NaN        NaN        NaN        NaN   \n",
      "...         ...        ...        ...        ...        ...        ...   \n",
      "3691 -34.578396 -36.762932 -38.023891 -35.574318 -34.405258 -38.151634   \n",
      "3692        NaN        NaN        NaN        NaN        NaN        NaN   \n",
      "3693        NaN        NaN        NaN        NaN        NaN        NaN   \n",
      "3694        NaN        NaN        NaN        NaN        NaN        NaN   \n",
      "3695        NaN        NaN        NaN        NaN        NaN        NaN   \n",
      "\n",
      "            214        215  \n",
      "0           NaN        NaN  \n",
      "1           NaN        NaN  \n",
      "2           NaN        NaN  \n",
      "3           NaN        NaN  \n",
      "4           NaN        NaN  \n",
      "...         ...        ...  \n",
      "3691 -38.480564 -37.453854  \n",
      "3692        NaN        NaN  \n",
      "3693        NaN        NaN  \n",
      "3694        NaN        NaN  \n",
      "3695        NaN        NaN  \n",
      "\n",
      "[3696 rows x 216 columns]\n"
     ]
    }
   ],
   "source": [
    "print(tempdf)"
   ]
  },
  {
   "cell_type": "code",
   "execution_count": 14,
   "metadata": {},
   "outputs": [],
   "source": [
    "train_set = train.iloc[:, :-1]\n",
    "train_label = train.iloc[:, -1:]\n",
    "test_set = test.iloc[:, :-1]\n",
    "test_label = test.iloc[:, -1:]"
   ]
  },
  {
   "cell_type": "markdown",
   "metadata": {},
   "source": [
    "# Getting train and test data"
   ]
  },
  {
   "cell_type": "code",
   "execution_count": 15,
   "metadata": {},
   "outputs": [
    {
     "name": "stderr",
     "output_type": "stream",
     "text": [
      "C:\\ProgramData\\Anaconda3\\lib\\site-packages\\sklearn\\utils\\validation.py:72: DataConversionWarning: A column-vector y was passed when a 1d array was expected. Please change the shape of y to (n_samples, ), for example using ravel().\n",
      "  return f(**kwargs)\n"
     ]
    }
   ],
   "source": [
    "X_train = np.array(train_set)\n",
    "y_train = np.array(train_label)\n",
    "X_test = np.array(test_set)\n",
    "y_test = np.array(test_label)\n",
    "\n",
    "lb = LabelEncoder()\n",
    "y_train = np_utils.to_categorical(lb.fit_transform(y_train))\n",
    "y_test = np_utils.to_categorical(lb.fit_transform(y_test))\n"
   ]
  },
  {
   "cell_type": "code",
   "execution_count": 16,
   "metadata": {},
   "outputs": [
    {
     "name": "stdout",
     "output_type": "stream",
     "text": [
      "(2964, 216)\n",
      "(2964, 6)\n",
      "(732, 216)\n",
      "(732, 6)\n"
     ]
    }
   ],
   "source": [
    "print(X_train.shape)\n",
    "print(y_train.shape)\n",
    "print(X_test.shape)\n",
    "print(y_test.shape)"
   ]
  },
  {
   "cell_type": "code",
   "execution_count": 17,
   "metadata": {},
   "outputs": [],
   "source": [
    "y_train1d = []\n",
    "for i in range(len(y_train)):\n",
    "    for j in range(len(y_train[0])):\n",
    "        if(y_train[i][j] == 1):\n",
    "            y_train1d.append(j+1)"
   ]
  },
  {
   "cell_type": "code",
   "execution_count": 18,
   "metadata": {},
   "outputs": [
    {
     "name": "stdout",
     "output_type": "stream",
     "text": [
      "[4, 1, 4, 5, 4, 4, 3, 2, 2, 1, 2, 6, 6, 5, 3, 5, 6, 1, 6, 5, 4, 3, 1, 4, 2, 2, 1, 4, 2, 5, 5, 6, 2, 3, 5, 5, 5, 5, 2, 3, 1, 6, 6, 6, 3, 6, 2, 3, 1, 3, 5, 6, 4, 2, 6, 1, 6, 5, 6, 4, 3, 1, 3, 1, 3, 5, 3, 6, 4, 5, 5, 4, 2, 3, 5, 1, 3, 5, 5, 6, 1, 3, 4, 2, 4, 5, 5, 4, 1, 2, 1, 1, 3, 1, 3, 1, 6, 6, 3, 4, 3, 2, 3, 4, 2, 1, 1, 2, 2, 2, 6, 2, 1, 1, 6, 3, 1, 4, 3, 5, 6, 1, 2, 3, 5, 3, 4, 2, 2, 1, 4, 1, 6, 2, 1, 3, 2, 6, 2, 3, 6, 4, 5, 6, 1, 3, 1, 1, 4, 2, 1, 1, 3, 5, 2, 4, 5, 3, 2, 1, 3, 3, 4, 6, 5, 3, 6, 6, 4, 2, 4, 5, 2, 5, 4, 4, 1, 1, 2, 6, 5, 2, 3, 1, 1, 2, 2, 1, 4, 1, 4, 1, 6, 5, 6, 1, 5, 4, 3, 5, 3, 6, 6, 3, 1, 3, 2, 2, 3, 2, 5, 6, 1, 3, 2, 6, 5, 4, 3, 1, 1, 1, 4, 3, 6, 6, 5, 3, 5, 4, 2, 3, 1, 3, 3, 6, 3, 2, 3, 6, 5, 4, 2, 5, 1, 3, 5, 1, 1, 1, 1, 2, 6, 3, 1, 1, 3, 5, 1, 4, 5, 6, 4, 2, 6, 6, 5, 4, 4, 3, 5, 2, 3, 5, 4, 5, 5, 6, 2, 4, 1, 4, 4, 4, 1, 2, 5, 3, 4, 4, 6, 4, 1, 2, 5, 6, 3, 1, 4, 5, 3, 4, 1, 3, 3, 2, 4, 5, 5, 2, 2, 3, 6, 3, 5, 3, 4, 4, 4, 1, 2, 6, 2, 2, 4, 5, 3, 5, 6, 3, 2, 5, 1, 1, 2, 2, 1, 1, 1, 6, 6, 2, 5, 5, 1, 5, 6, 3, 2, 4, 4, 2, 3, 5, 1, 4, 3, 2, 2, 5, 4, 5, 5, 3, 1, 5, 3, 4, 5, 1, 6, 6, 3, 1, 1, 4, 4, 6, 3, 4, 1, 3, 3, 5, 3, 1, 4, 6, 3, 5, 1, 1, 3, 1, 4, 1, 4, 5, 4, 3, 6, 4, 5, 4, 5, 4, 2, 3, 6, 2, 3, 6, 2, 4, 4, 3, 2, 2, 2, 5, 4, 5, 2, 3, 2, 4, 3, 1, 2, 4, 3, 1, 1, 6, 2, 5, 4, 1, 4, 6, 6, 6, 4, 4, 2, 5, 5, 1, 1, 5, 4, 6, 2, 1, 6, 4, 2, 1, 6, 2, 4, 6, 2, 1, 5, 1, 1, 3, 4, 3, 2, 2, 1, 3, 2, 6, 4, 3, 4, 2, 3, 5, 4, 6, 6, 3, 5, 3, 4, 3, 4, 3, 4, 6, 5, 6, 1, 4, 4, 6, 2, 6, 5, 5, 2, 1, 6, 4, 4, 4, 5, 6, 2, 6, 4, 6, 3, 4, 1, 4, 1, 1, 1, 2, 1, 2, 4, 6, 5, 4, 6, 4, 4, 1, 5, 5, 3, 4, 4, 5, 3, 4, 4, 3, 1, 4, 3, 4, 6, 4, 3, 6, 3, 3, 6, 2, 3, 6, 2, 4, 4, 2, 1, 2, 1, 4, 4, 6, 2, 5, 6, 5, 3, 3, 6, 6, 5, 6, 4, 4, 2, 6, 6, 4, 1, 3, 4, 5, 3, 1, 6, 6, 3, 6, 1, 3, 1, 5, 3, 1, 5, 4, 2, 1, 5, 1, 5, 1, 2, 5, 1, 4, 1, 1, 3, 1, 1, 6, 1, 1, 3, 3, 3, 2, 2, 1, 1, 5, 6, 2, 5, 1, 6, 4, 6, 3, 6, 1, 2, 6, 1, 2, 6, 1, 5, 4, 1, 1, 5, 6, 5, 3, 2, 5, 4, 6, 4, 6, 2, 1, 1, 1, 6, 4, 6, 6, 3, 2, 4, 5, 5, 5, 2, 1, 6, 3, 1, 6, 6, 2, 3, 3, 1, 3, 5, 3, 3, 1, 4, 1, 3, 6, 2, 6, 1, 1, 3, 4, 2, 5, 1, 3, 2, 3, 4, 2, 4, 3, 1, 4, 4, 6, 1, 2, 6, 1, 6, 1, 3, 1, 3, 3, 3, 2, 2, 4, 6, 2, 4, 1, 5, 4, 2, 1, 2, 4, 6, 6, 5, 2, 5, 6, 5, 4, 3, 5, 4, 2, 2, 6, 6, 2, 3, 5, 4, 2, 5, 3, 6, 2, 2, 4, 6, 2, 1, 2, 4, 5, 4, 4, 3, 6, 1, 4, 4, 3, 1, 2, 4, 4, 3, 3, 3, 3, 6, 5, 1, 6, 3, 1, 3, 4, 1, 2, 4, 6, 2, 2, 3, 2, 6, 1, 4, 6, 2, 6, 1, 6, 4, 3, 5, 6, 5, 5, 4, 6, 4, 4, 2, 5, 4, 4, 6, 5, 2, 1, 3, 2, 5, 1, 4, 2, 1, 1, 6, 4, 4, 3, 6, 4, 4, 6, 6, 4, 5, 3, 2, 4, 6, 2, 6, 3, 6, 4, 5, 2, 3, 6, 1, 5, 5, 1, 5, 6, 1, 6, 2, 6, 1, 3, 6, 4, 6, 3, 1, 6, 4, 2, 2, 2, 4, 3, 6, 1, 1, 6, 6, 1, 5, 6, 2, 2, 1, 2, 6, 2, 1, 5, 3, 2, 3, 4, 5, 5, 2, 6, 1, 6, 1, 4, 3, 1, 5, 1, 5, 2, 3, 3, 5, 6, 3, 6, 4, 4, 1, 4, 2, 1, 6, 5, 6, 2, 5, 2, 6, 3, 1, 6, 5, 3, 5, 4, 1, 4, 2, 1, 6, 6, 1, 3, 3, 5, 2, 4, 1, 1, 1, 6, 3, 6, 1, 1, 4, 2, 5, 5, 6, 3, 2, 3, 4, 5, 2, 5, 5, 4, 5, 4, 4, 3, 1, 6, 5, 5, 4, 3, 4, 1, 2, 2, 3, 4, 2, 6, 6, 5, 6, 4, 5, 4, 5, 4, 3, 6, 6, 6, 6, 3, 5, 1, 1, 6, 1, 2, 2, 4, 6, 2, 3, 4, 3, 6, 2, 5, 1, 3, 4, 6, 2, 3, 4, 1, 6, 4, 1, 2, 5, 5, 1, 2, 6, 1, 3, 6, 4, 4, 3, 1, 4, 3, 2, 4, 5, 5, 1, 2, 5, 4, 3, 1, 6, 3, 1, 4, 4, 6, 1, 6, 2, 5, 6, 3, 3, 6, 3, 5, 4, 1, 4, 4, 3, 5, 4, 6, 6, 2, 2, 4, 2, 5, 2, 5, 4, 4, 1, 4, 4, 2, 4, 4, 4, 3, 3, 5, 6, 4, 5, 1, 6, 5, 4, 5, 6, 6, 6, 1, 6, 5, 5, 3, 4, 6, 3, 6, 3, 4, 1, 1, 2, 5, 4, 5, 2, 5, 6, 1, 1, 1, 3, 3, 4, 3, 2, 6, 4, 4, 3, 2, 6, 2, 3, 1, 6, 4, 5, 4, 1, 4, 6, 4, 2, 2, 5, 5, 4, 6, 1, 2, 2, 1, 4, 6, 4, 6, 3, 3, 1, 2, 4, 6, 3, 6, 1, 6, 3, 4, 4, 3, 2, 2, 6, 5, 3, 4, 6, 5, 3, 5, 3, 4, 2, 3, 6, 3, 6, 5, 6, 6, 3, 3, 3, 6, 6, 5, 4, 3, 3, 4, 4, 5, 6, 5, 1, 4, 3, 6, 4, 6, 6, 6, 4, 2, 4, 3, 5, 6, 6, 6, 5, 6, 1, 4, 4, 6, 6, 2, 3, 4, 1, 2, 3, 2, 1, 3, 2, 6, 4, 6, 6, 4, 2, 1, 1, 2, 3, 6, 6, 6, 2, 4, 4, 1, 5, 6, 4, 5, 6, 1, 6, 1, 1, 5, 5, 6, 2, 5, 2, 5, 2, 4, 3, 3, 6, 3, 3, 1, 2, 6, 4, 5, 2, 3, 3, 2, 2, 5, 2, 6, 3, 5, 3, 6, 2, 3, 3, 6, 5, 1, 2, 6, 6, 4, 4, 2, 4, 6, 4, 2, 4, 6, 1, 1, 6, 6, 4, 3, 2, 2, 6, 1, 5, 4, 3, 1, 2, 2, 1, 4, 2, 1, 2, 6, 2, 6, 5, 5, 1, 4, 1, 3, 1, 2, 1, 4, 6, 5, 3, 6, 3, 5, 1, 5, 2, 5, 6, 4, 1, 6, 4, 6, 4, 5, 1, 1, 5, 2, 6, 4, 6, 1, 3, 4, 1, 5, 6, 4, 1, 3, 1, 3, 4, 1, 6, 4, 6, 2, 4, 3, 5, 4, 3, 3, 4, 2, 3, 4, 5, 4, 6, 1, 5, 6, 2, 2, 6, 5, 4, 3, 6, 3, 2, 4, 4, 5, 5, 1, 6, 2, 5, 4, 5, 4, 6, 1, 6, 2, 4, 2, 3, 3, 5, 1, 1, 1, 5, 4, 6, 1, 6, 4, 5, 3, 3, 2, 1, 2, 4, 1, 1, 6, 5, 4, 3, 5, 4, 4, 3, 3, 2, 4, 2, 3, 1, 6, 3, 1, 1, 4, 3, 2, 6, 4, 6, 1, 3, 2, 1, 3, 2, 6, 6, 6, 1, 6, 5, 6, 4, 6, 4, 1, 1, 4, 6, 3, 5, 2, 3, 3, 6, 1, 4, 3, 4, 3, 1, 3, 5, 4, 5, 1, 6, 2, 3, 3, 2, 3, 2, 2, 1, 3, 2, 3, 2, 1, 1, 4, 1, 6, 6, 6, 4, 4, 6, 2, 3, 1, 4, 2, 6, 5, 4, 2, 2, 4, 6, 3, 5, 6, 1, 3, 5, 1, 2, 6, 6, 6, 6, 2, 3, 3, 6, 1, 4, 6, 1, 6, 4, 5, 6, 5, 2, 4, 5, 4, 1, 6, 3, 5, 3, 6, 2, 6, 6, 6, 3, 3, 2, 6, 5, 1, 2, 1, 6, 2, 4, 5, 6, 1, 2, 3, 6, 2, 2, 3, 2, 6, 5, 4, 4, 2, 6, 5, 6, 2, 1, 3, 3, 4, 3, 1, 2, 4, 4, 2, 2, 2, 5, 1, 4, 2, 2, 1, 3, 4, 5, 4, 2, 4, 4, 2, 2, 3, 1, 5, 2, 6, 3, 4, 1, 3, 3, 1, 4, 1, 5, 3, 5, 6, 4, 3, 3, 6, 4, 5, 3, 4, 5, 3, 2, 4, 4, 2, 3, 5, 4, 2, 2, 5, 1, 6, 6, 5, 2, 5, 6, 1, 5, 3, 6, 6, 4, 2, 4, 6, 3, 5, 5, 2, 1, 2, 2, 6, 3, 1, 1, 6, 6, 1, 5, 6, 3, 6, 2, 5, 1, 6, 5, 6, 6, 5, 6, 4, 2, 1, 6, 5, 3, 4, 2, 4, 4, 4, 6, 6, 6, 2, 4, 2, 6, 2, 1, 3, 2, 2, 5, 3, 5, 3, 4, 3, 3, 6, 2, 2, 6, 4, 5, 2, 4, 4, 4, 2, 1, 1, 1, 3, 6, 2, 2, 4, 5, 3, 2, 3, 5, 5, 5, 4, 3, 3, 2, 2, 5, 6, 4, 6, 4, 6, 6, 4, 2, 3, 4, 5, 4, 2, 6, 5, 1, 1, 5, 6, 1, 5, 3, 1, 3, 1, 4, 6, 6, 6, 1, 2, 4, 3, 2, 3, 1, 1, 4, 5, 6, 6, 6, 6, 2, 2, 3, 1, 4, 6, 4, 4, 2, 2, 6, 3, 6, 5, 5, 2, 6, 2, 4, 4, 1, 4, 2, 3, 1, 1, 1, 1, 6, 3, 2, 5, 3, 1, 5, 2, 3, 6, 5, 1, 2, 5, 2, 2, 4, 5, 4, 4, 2, 3, 4, 4, 5, 6, 2, 1, 5, 3, 1, 1, 3, 3, 4, 3, 1, 3, 2, 6, 2, 3, 3, 3, 1, 3, 6, 5, 3, 1, 4, 3, 5, 1, 1, 6, 3, 3, 3, 3, 4, 6, 5, 2, 1, 1, 2, 3, 4, 2, 1, 2, 1, 1, 1, 2, 6, 5, 3, 2, 6, 3, 6, 3, 5, 5, 5, 6, 4, 6, 2, 3, 5, 2, 1, 6, 4, 6, 4, 5, 3, 6, 5, 1, 3, 4, 4, 3, 2, 2, 4, 3, 4, 4, 4, 4, 6, 6, 4, 4, 3, 1, 2, 3, 3, 5, 2, 1, 1, 1, 3, 4, 2, 6, 1, 5, 3, 2, 5, 6, 1, 3, 2, 2, 1, 5, 1, 4, 1, 4, 5, 1, 3, 2, 2, 1, 6, 3, 4, 4, 6, 4, 4, 2, 6, 3, 4, 6, 6, 1, 4, 5, 3, 4, 6, 3, 4, 6, 1, 4, 3, 1, 5, 2, 6, 4, 5, 4, 3, 3, 4, 1, 1, 5, 1, 2, 3, 3, 3, 4, 1, 5, 2, 2, 3, 4, 5, 5, 5, 2, 6, 5, 6, 6, 3, 1, 5, 1, 2, 2, 6, 3, 2, 5, 6, 3, 2, 6, 6, 4, 3, 3, 1, 3, 4, 1, 5, 1, 1, 1, 4, 6, 2, 6, 2, 1, 3, 5, 1, 6, 6, 1, 4, 4, 3, 6, 1, 4, 5, 4, 5, 3, 2, 5, 5, 3, 1, 4, 5, 4, 1, 1, 2, 1, 6, 3, 2, 5, 4, 3, 6, 4, 6, 1, 1, 1, 5, 3, 6, 1, 2, 4, 4, 1, 1, 6, 5, 2, 4, 2, 4, 2, 2, 6, 1, 2, 3, 3, 3, 1, 1, 5, 1, 1, 2, 2, 1, 2, 2, 3, 3, 3, 4, 3, 3, 1, 2, 1, 4, 2, 3, 3, 1, 4, 5, 2, 3, 5, 5, 5, 1, 2, 2, 2, 6, 3, 5, 2, 4, 4, 2, 1, 5, 3, 6, 3, 6, 1, 4, 2, 2, 6, 5, 2, 4, 6, 5, 1, 6, 2, 1, 6, 3, 1, 1, 2, 1, 1, 4, 4, 1, 5, 5, 2, 2, 5, 2, 2, 4, 4, 3, 4, 5, 6, 6, 1, 6, 2, 1, 1, 4, 5, 3, 2, 4, 2, 2, 3, 3, 4, 4, 4, 1, 4, 3, 1, 5, 5, 5, 6, 2, 1, 2, 2, 2, 2, 1, 6, 5, 3, 6, 3, 1, 4, 1, 6, 5, 4, 6, 6, 2, 3, 5, 4, 6, 1, 4, 5, 2, 2, 5, 5, 2, 2, 2, 2, 6, 2, 1, 3, 4, 6, 1, 1, 6, 3, 2, 6, 4, 3, 5, 1, 5, 4, 2, 1, 5, 5, 4, 1, 3, 3, 1, 1, 3, 3, 6, 5, 2, 1, 5, 6, 5, 1, 3, 3, 6, 1, 3, 6, 6, 4, 2, 6, 5, 6, 2, 2, 3, 4, 3, 2, 3, 5, 2, 2, 4, 2, 3, 4, 3, 1, 1, 3, 2, 4, 1, 5, 5, 4, 1, 6, 4, 3, 5, 1, 1, 3, 4, 3, 3, 6, 2, 3, 3, 1, 3, 3, 6, 5, 2, 4, 2, 5, 3, 5, 1, 3, 6, 4, 1, 5, 3, 1, 3, 4, 5, 4, 1, 4, 4, 3, 2, 6, 6, 1, 2, 5, 1, 4, 5, 3, 5, 5, 1, 6, 5, 5, 5, 6, 4, 1, 3, 3, 2, 4, 6, 2, 2, 1, 4, 4, 2, 6, 3, 4, 1, 1, 5, 2, 5, 2, 6, 1, 6, 6, 1, 4, 3, 5, 3, 4, 3, 2, 1, 6, 6, 4, 6, 1, 3, 1, 4, 1, 6, 6, 4, 2, 3, 5, 5, 1, 3, 2, 2, 6, 6, 3, 6, 6, 4, 4, 1, 5, 3, 2, 4, 4, 2, 3, 4, 1, 6, 4, 4, 1, 6, 6, 2, 6, 3, 4, 3, 1, 1, 4, 2, 4, 6, 1, 3, 3, 1, 1, 4, 2, 4, 3, 5, 2, 3, 4, 4, 4, 1, 3, 3, 2, 3, 1, 4, 6, 2, 4, 3, 4, 1, 2, 3, 4, 1, 4, 6, 6, 5, 1, 4, 3, 3, 2, 6, 1, 4, 5, 1, 1, 4, 1, 2, 1, 6, 2, 1, 6, 4, 4, 4, 4, 3, 6, 6, 2, 3, 6, 2, 1, 6, 3, 6, 1, 6, 2, 4, 3, 5, 2, 2, 2, 1, 1, 6, 4, 4, 1, 3, 2, 6, 3, 4, 2, 3, 2, 4, 4, 4, 4, 4, 1, 5, 5, 1, 4, 3, 4, 2, 3, 5, 5, 2, 5, 6, 4, 5, 4, 1, 5, 4, 1, 1, 1, 6, 3, 2, 3, 2, 6, 3, 3, 2, 2, 5, 2, 1, 3, 4, 1, 2, 1, 2, 4, 5, 2, 2, 6, 1, 3, 1, 3, 1, 1, 3, 6, 4, 3, 5, 2, 5, 5, 4, 5, 4, 2, 6, 4, 1, 4, 4, 4, 3, 4, 5, 3, 2, 5, 6, 3, 2, 4, 6, 4, 6, 5, 3, 6, 4, 3, 1, 6, 5, 1, 4, 1, 6, 3, 1, 3, 3, 1, 1, 3, 6, 1, 1, 1, 3, 6, 1, 6, 4, 4, 2, 3, 5, 6, 2, 1, 3, 2, 4, 6, 6, 2, 2, 1, 4, 1, 6, 1, 2, 3, 6, 4, 6, 1, 6, 6, 5, 4, 3, 2, 6, 3, 3, 3, 4, 4, 4, 4, 2, 4, 3, 1, 2, 6, 1, 2, 1, 3, 1, 6, 3, 6, 3, 4, 2, 2, 6, 2, 4, 2, 4, 1, 6, 1, 1, 4, 4, 6, 2, 1, 5, 5, 1, 3, 2, 1, 1, 3, 6, 5, 1, 1, 4, 3, 3, 5, 5, 2, 6, 1, 1, 3, 3, 4, 4, 6, 5, 4, 6, 5, 6, 3, 1, 5, 6, 3, 4, 1, 3, 6, 4, 3, 5, 2, 6, 6, 2, 4, 5, 2, 5, 5, 1, 5, 5, 5, 3, 6, 5, 1, 6, 2, 6, 4, 6, 4, 3, 3, 3, 2, 4, 1, 5, 1, 3, 4, 5, 5, 3, 4, 4, 3, 6, 4, 5, 5, 6, 5, 5, 1, 5, 5, 2, 1, 3, 5, 2, 5, 3, 4, 6, 2, 2, 3, 1, 3, 5, 5, 4, 1, 4, 2, 6, 1, 4, 3, 2, 3, 3, 5, 2, 1, 1, 4, 1, 4, 3, 5, 6, 4]\n"
     ]
    }
   ],
   "source": [
    "print(y_train1d)"
   ]
  },
  {
   "cell_type": "code",
   "execution_count": 19,
   "metadata": {},
   "outputs": [],
   "source": [
    "y_test1d = []\n",
    "for i in range(len(y_test)):\n",
    "    for j in range(len(y_test[0])):\n",
    "        if(y_test[i][j] == 1):\n",
    "            y_test1d.append(j+1)"
   ]
  },
  {
   "cell_type": "code",
   "execution_count": 20,
   "metadata": {},
   "outputs": [
    {
     "name": "stdout",
     "output_type": "stream",
     "text": [
      "[2, 6, 2, 6, 3, 6, 1, 4, 6, 2, 2, 4, 6, 5, 6, 3, 1, 5, 1, 1, 6, 1, 6, 6, 2, 3, 4, 6, 1, 1, 3, 6, 5, 6, 1, 1, 1, 6, 4, 3, 6, 1, 3, 4, 5, 4, 2, 4, 4, 4, 6, 6, 4, 4, 3, 4, 1, 4, 4, 6, 3, 6, 3, 2, 3, 6, 4, 1, 4, 6, 3, 1, 2, 6, 4, 1, 3, 2, 3, 6, 6, 3, 6, 1, 5, 6, 6, 1, 3, 2, 5, 3, 4, 5, 3, 5, 2, 3, 5, 4, 2, 1, 6, 2, 2, 3, 6, 3, 4, 2, 3, 2, 4, 4, 3, 1, 3, 5, 3, 1, 6, 2, 2, 6, 5, 2, 3, 3, 2, 6, 6, 6, 2, 4, 2, 3, 4, 3, 3, 2, 6, 3, 1, 5, 3, 5, 1, 3, 6, 2, 3, 4, 4, 1, 6, 5, 6, 1, 2, 3, 5, 1, 5, 6, 3, 5, 2, 5, 1, 5, 1, 6, 3, 4, 1, 2, 1, 6, 5, 2, 4, 4, 6, 2, 4, 4, 1, 3, 5, 6, 1, 1, 4, 1, 5, 2, 1, 4, 2, 2, 1, 6, 2, 6, 2, 4, 5, 3, 4, 1, 2, 3, 3, 1, 5, 3, 2, 6, 2, 5, 1, 5, 2, 6, 3, 4, 4, 2, 2, 6, 3, 3, 3, 2, 4, 1, 6, 2, 5, 1, 1, 4, 5, 4, 1, 2, 2, 5, 3, 5, 3, 6, 1, 4, 4, 5, 1, 3, 4, 3, 2, 4, 5, 5, 3, 6, 4, 6, 1, 6, 5, 6, 6, 3, 3, 1, 6, 1, 6, 1, 2, 4, 1, 1, 2, 1, 2, 4, 1, 5, 6, 4, 6, 3, 1, 1, 1, 3, 5, 1, 6, 5, 2, 2, 4, 6, 4, 6, 6, 2, 6, 6, 4, 2, 3, 2, 2, 3, 4, 3, 2, 6, 2, 4, 6, 1, 2, 1, 1, 2, 3, 3, 6, 1, 6, 1, 6, 2, 4, 3, 2, 1, 1, 1, 5, 1, 5, 4, 3, 4, 3, 6, 1, 5, 2, 5, 6, 6, 1, 1, 2, 1, 1, 6, 1, 1, 3, 6, 6, 1, 6, 4, 3, 3, 3, 3, 5, 4, 4, 1, 3, 5, 5, 2, 6, 1, 1, 6, 6, 1, 5, 5, 6, 2, 3, 4, 3, 1, 2, 3, 6, 6, 6, 3, 4, 5, 4, 1, 5, 2, 4, 6, 4, 4, 3, 6, 4, 3, 5, 6, 6, 2, 5, 6, 4, 4, 3, 2, 4, 6, 3, 3, 3, 4, 1, 6, 5, 3, 2, 3, 6, 5, 2, 4, 1, 4, 1, 1, 4, 2, 3, 2, 1, 1, 6, 2, 4, 1, 6, 4, 3, 3, 1, 6, 1, 4, 3, 3, 6, 6, 3, 6, 4, 6, 3, 5, 6, 5, 1, 5, 2, 1, 6, 6, 4, 5, 2, 2, 3, 3, 2, 2, 2, 1, 2, 3, 1, 6, 6, 1, 4, 3, 1, 6, 5, 2, 2, 4, 2, 1, 5, 3, 4, 2, 1, 4, 1, 1, 1, 4, 1, 3, 3, 6, 3, 3, 3, 2, 6, 1, 2, 2, 1, 6, 5, 3, 3, 2, 1, 4, 1, 4, 2, 1, 5, 3, 2, 5, 1, 1, 4, 2, 4, 1, 5, 3, 3, 3, 2, 2, 3, 6, 1, 5, 1, 1, 6, 5, 3, 1, 1, 3, 1, 3, 6, 5, 2, 6, 6, 2, 1, 1, 3, 5, 5, 1, 6, 3, 1, 1, 2, 6, 4, 3, 4, 6, 1, 4, 2, 3, 6, 2, 3, 5, 2, 3, 1, 2, 1, 6, 4, 6, 5, 3, 2, 3, 2, 1, 4, 3, 3, 3, 3, 2, 3, 6, 3, 5, 3, 4, 3, 3, 5, 4, 4, 3, 4, 6, 6, 5, 3, 6, 1, 1, 2, 4, 4, 1, 4, 2, 3, 3, 4, 1, 3, 6, 3, 6, 6, 6, 1, 4, 2, 6, 1, 2, 3, 6, 5, 1, 1, 5, 5, 5, 6, 6, 2, 1, 6, 5, 4, 1, 3, 4, 2, 1, 6, 5, 4, 2, 3, 3, 3, 3, 4, 6, 2, 4, 4, 4, 2, 3, 1, 1, 1, 3, 4, 2, 6, 3, 3, 1, 5, 6, 6, 6, 4, 3, 5, 6, 5, 3, 3, 5, 1, 1, 1, 3, 6, 3, 2, 4]\n"
     ]
    }
   ],
   "source": [
    "print(y_test1d)"
   ]
  },
  {
   "cell_type": "code",
   "execution_count": 21,
   "metadata": {},
   "outputs": [
    {
     "name": "stdout",
     "output_type": "stream",
     "text": [
      "[[-35.41674042 -34.12383652 -33.70621109 ...   0.           0.\n",
      "    0.        ]\n",
      " [-31.68978119 -31.47378922 -31.38124657 ...   0.           0.\n",
      "    0.        ]\n",
      " [-42.22000504 -40.52980042 -38.66399765 ...   0.           0.\n",
      "    0.        ]\n",
      " ...\n",
      " [-40.69172668 -38.9319725  -39.172966   ...   0.           0.\n",
      "    0.        ]\n",
      " [-51.48413849 -50.75852966 -48.6944809  ...   0.           0.\n",
      "    0.        ]\n",
      " [-46.25503922 -46.23346329 -46.34589005 ...   0.           0.\n",
      "    0.        ]]\n"
     ]
    }
   ],
   "source": [
    "print(X_train)"
   ]
  },
  {
   "cell_type": "markdown",
   "metadata": {},
   "source": [
    "# Feature Scaling"
   ]
  },
  {
   "cell_type": "code",
   "execution_count": 22,
   "metadata": {},
   "outputs": [],
   "source": [
    "from sklearn.preprocessing import StandardScaler  \n",
    "sc = StandardScaler()  \n",
    "X_train = sc.fit_transform(X_train)  \n",
    "X_test = sc.transform(X_test)  "
   ]
  },
  {
   "cell_type": "markdown",
   "metadata": {},
   "source": [
    "# Training the model using naive bayes classifier"
   ]
  },
  {
   "cell_type": "code",
   "execution_count": 24,
   "metadata": {},
   "outputs": [
    {
     "data": {
      "text/plain": [
       "GaussianNB()"
      ]
     },
     "execution_count": 24,
     "metadata": {},
     "output_type": "execute_result"
    }
   ],
   "source": [
    "from sklearn.naive_bayes import GaussianNB  \n",
    "classifier = GaussianNB()  \n",
    "classifier.fit(X_train, y_train1d)  "
   ]
  },
  {
   "cell_type": "markdown",
   "metadata": {},
   "source": [
    "# Predicting "
   ]
  },
  {
   "cell_type": "code",
   "execution_count": 25,
   "metadata": {},
   "outputs": [],
   "source": [
    "y_pred = classifier.predict(X_test)  "
   ]
  },
  {
   "cell_type": "code",
   "execution_count": 27,
   "metadata": {},
   "outputs": [
    {
     "name": "stdout",
     "output_type": "stream",
     "text": [
      "0.32786885245901637\n"
     ]
    }
   ],
   "source": [
    "print(accuracy_score(y_test1d, y_pred))"
   ]
  },
  {
   "cell_type": "code",
   "execution_count": null,
   "metadata": {},
   "outputs": [],
   "source": []
  }
 ],
 "metadata": {
  "kernelspec": {
   "display_name": "Python 3",
   "language": "python",
   "name": "python3"
  },
  "language_info": {
   "codemirror_mode": {
    "name": "ipython",
    "version": 3
   },
   "file_extension": ".py",
   "mimetype": "text/x-python",
   "name": "python",
   "nbconvert_exporter": "python",
   "pygments_lexer": "ipython3",
   "version": "3.8.5"
  }
 },
 "nbformat": 4,
 "nbformat_minor": 4
}
